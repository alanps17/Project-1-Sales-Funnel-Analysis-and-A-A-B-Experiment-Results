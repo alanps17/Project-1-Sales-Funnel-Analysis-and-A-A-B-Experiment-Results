{
 "cells": [
  {
   "cell_type": "markdown",
   "metadata": {},
   "source": [
    "В этом проекте мы исследуем поведение пользователей мобильного приложения стартапа, который продаёт продукты питания. Целью исследования является изучение воронки продаж и выяснение, как пользователи доходят до покупки. Мы также будем исследовать результаты A/A/B-эксперимента, чтобы определить, какой шрифт лучше для приложения. Для проведения исследования у нас есть данные о действиях пользователей в приложении, включая название события, уникальный идентификатор пользователя, время события и номер эксперимента."
   ]
  },
  {
   "cell_type": "markdown",
   "metadata": {},
   "source": [
    "## Шаг 1. Откройте файл с данными и изучите общую информацию"
   ]
  },
  {
   "cell_type": "code",
   "execution_count": 1,
   "metadata": {},
   "outputs": [],
   "source": [
    "import pandas as pd\n",
    "import matplotlib.pyplot as plt\n",
    "from datetime import datetime\n",
    "from scipy.stats import norm\n",
    "from scipy import stats as st\n",
    "import numpy as np"
   ]
  },
  {
   "cell_type": "code",
   "execution_count": 2,
   "metadata": {},
   "outputs": [
    {
     "name": "stdout",
     "output_type": "stream",
     "text": [
      "                 EventName         DeviceIDHash  EventTimestamp  ExpId\n",
      "0         MainScreenAppear  4575588528974610257      1564029816    246\n",
      "1         MainScreenAppear  7416695313311560658      1564053102    246\n",
      "2  PaymentScreenSuccessful  3518123091307005509      1564054127    248\n",
      "3         CartScreenAppear  3518123091307005509      1564054127    248\n",
      "4  PaymentScreenSuccessful  6217807653094995999      1564055322    248\n",
      "<class 'pandas.core.frame.DataFrame'>\n",
      "RangeIndex: 244126 entries, 0 to 244125\n",
      "Data columns (total 4 columns):\n",
      " #   Column          Non-Null Count   Dtype \n",
      "---  ------          --------------   ----- \n",
      " 0   EventName       244126 non-null  object\n",
      " 1   DeviceIDHash    244126 non-null  int64 \n",
      " 2   EventTimestamp  244126 non-null  int64 \n",
      " 3   ExpId           244126 non-null  int64 \n",
      "dtypes: int64(3), object(1)\n",
      "memory usage: 7.5+ MB\n",
      "None\n"
     ]
    }
   ],
   "source": [
    "df = pd.read_csv('/datasets/logs_exp.csv', sep='\\t')\n",
    "print(df.head())\n",
    "print(df.info())"
   ]
  },
  {
   "cell_type": "markdown",
   "metadata": {},
   "source": [
    "## Шаг 2. Подготовьте данные"
   ]
  },
  {
   "cell_type": "markdown",
   "metadata": {},
   "source": [
    "**Замените названия столбцов на удобные для вас;**"
   ]
  },
  {
   "cell_type": "code",
   "execution_count": 3,
   "metadata": {},
   "outputs": [
    {
     "name": "stdout",
     "output_type": "stream",
     "text": [
      "                event_name            device_id  event_timestamp  exp_id\n",
      "0         MainScreenAppear  4575588528974610257       1564029816     246\n",
      "1         MainScreenAppear  7416695313311560658       1564053102     246\n",
      "2  PaymentScreenSuccessful  3518123091307005509       1564054127     248\n",
      "3         CartScreenAppear  3518123091307005509       1564054127     248\n",
      "4  PaymentScreenSuccessful  6217807653094995999       1564055322     248\n"
     ]
    }
   ],
   "source": [
    "# Заменяем названия столбцов в DataFrame\n",
    "df = df.rename(columns={\n",
    "    'EventName': 'event_name',      # Заменяем 'EventName' на 'event_name'\n",
    "    'DeviceIDHash': 'device_id',    # Заменяем 'DeviceIDHash' на 'device_id'\n",
    "    'EventTimestamp': 'event_timestamp',  # Заменяем 'EventTimestamp' на 'event_timestamp'\n",
    "    'ExpId': 'exp_id'               # Заменяем 'ExpId' на 'exp_id'\n",
    "})\n",
    "\n",
    "# Выводим первые 5 строк обновленных данных\n",
    "print(df.head())"
   ]
  },
  {
   "cell_type": "markdown",
   "metadata": {},
   "source": [
    "**Проверьте пропуски и типы данных. Откорректируйте, если нужно;**"
   ]
  },
  {
   "cell_type": "code",
   "execution_count": 4,
   "metadata": {},
   "outputs": [
    {
     "name": "stdout",
     "output_type": "stream",
     "text": [
      "<class 'pandas.core.frame.DataFrame'>\n",
      "RangeIndex: 244126 entries, 0 to 244125\n",
      "Data columns (total 4 columns):\n",
      " #   Column           Non-Null Count   Dtype \n",
      "---  ------           --------------   ----- \n",
      " 0   event_name       244126 non-null  object\n",
      " 1   device_id        244126 non-null  int64 \n",
      " 2   event_timestamp  244126 non-null  int64 \n",
      " 3   exp_id           244126 non-null  int64 \n",
      "dtypes: int64(3), object(1)\n",
      "memory usage: 7.5+ MB\n",
      "None\n",
      "event_name         0\n",
      "device_id          0\n",
      "event_timestamp    0\n",
      "exp_id             0\n",
      "dtype: int64\n"
     ]
    }
   ],
   "source": [
    "# Выводим общую информацию о данных, включая типы данных и количество непустых значений в каждом столбце\n",
    "print(df.info())\n",
    "\n",
    "# Проверяем наличие пропусков в данных\n",
    "print(df.isnull().sum())"
   ]
  },
  {
   "cell_type": "markdown",
   "metadata": {},
   "source": [
    "Наши данные не имеют пропусков и типы данных выглядят правильными. Все столбцы имеют 244126 непустых значений, и типы данных в столбцах device_id, event_timestamp и exp_id - это int64, а тип данных в столбце event_name - это object"
   ]
  },
  {
   "cell_type": "markdown",
   "metadata": {},
   "source": [
    "**Добавьте столбец даты и времени, а также отдельный столбец дат;**"
   ]
  },
  {
   "cell_type": "code",
   "execution_count": 5,
   "metadata": {},
   "outputs": [
    {
     "name": "stdout",
     "output_type": "stream",
     "text": [
      "413\n"
     ]
    }
   ],
   "source": [
    "# Преобразуем столбец event_timestamp в формат datetime\n",
    "df['event_datetime'] = pd.to_datetime(df['event_timestamp'], unit='s')\n",
    "\n",
    "# Добавляем столбец с датой\n",
    "df['event_date'] = df['event_datetime'].dt.date\n",
    "\n",
    "# Проверяем наличие дубликатов в данных\n",
    "print(df.duplicated().sum())\n",
    "\n",
    "# Удаляем дубликаты из данных\n",
    "df = df.drop_duplicates()"
   ]
  },
  {
   "cell_type": "markdown",
   "metadata": {},
   "source": [
    "## Шаг 3. Изучите и проверьте данные"
   ]
  },
  {
   "cell_type": "markdown",
   "metadata": {},
   "source": [
    "**Сколько всего событий в логе?**"
   ]
  },
  {
   "cell_type": "code",
   "execution_count": 6,
   "metadata": {},
   "outputs": [
    {
     "name": "stdout",
     "output_type": "stream",
     "text": [
      "Общее количество событий в логе: 243713\n"
     ]
    }
   ],
   "source": [
    "# Получаем общее количество событий в логе с помощью метода count\n",
    "event_count = df['event_name'].count()\n",
    "print(f'Общее количество событий в логе: {event_count}')"
   ]
  },
  {
   "cell_type": "markdown",
   "metadata": {},
   "source": [
    "**Сколько в среднем событий приходится на пользователя?**"
   ]
  },
  {
   "cell_type": "code",
   "execution_count": 7,
   "metadata": {
    "scrolled": true
   },
   "outputs": [
    {
     "name": "stdout",
     "output_type": "stream",
     "text": [
      "Среднее количество событий на пользователя: 32.28\n"
     ]
    }
   ],
   "source": [
    "# Получаем количество уникальных пользователей в логе\n",
    "user_count = df['device_id'].nunique()\n",
    "\n",
    "# Вычисляем среднее количество событий на пользователя\n",
    "avg_events_per_user = event_count / user_count\n",
    "print(f'Среднее количество событий на пользователя: {avg_events_per_user:.2f}')"
   ]
  },
  {
   "cell_type": "markdown",
   "metadata": {},
   "source": [
    "**Данными за какой период вы располагаете? Найдите максимальную и минимальную дату. Постройте гистограмму по дате и времени. Можно ли быть уверенным, что у вас одинаково полные данные за весь период? Технически в логи новых дней по некоторым пользователям могут «доезжать» события из прошлого — это может «перекашивать данные». Определите, с какого момента данные полные и отбросьте более старые. Данными за какой период времени вы располагаете на самом деле?**"
   ]
  },
  {
   "cell_type": "code",
   "execution_count": 8,
   "metadata": {},
   "outputs": [
    {
     "name": "stdout",
     "output_type": "stream",
     "text": [
      "Данные за период с 2019-07-25 по 2019-08-07\n"
     ]
    }
   ],
   "source": [
    "# Получаем минимальную и максимальную дату в данных\n",
    "min_date = df['event_date'].min()\n",
    "max_date = df['event_date'].max()\n",
    "\n",
    "# Выводим минимальную и максимальную дату\n",
    "print(f'Данные за период с {min_date} по {max_date}')"
   ]
  },
  {
   "cell_type": "code",
   "execution_count": 9,
   "metadata": {},
   "outputs": [
    {
     "data": {
      "image/png": "[encoded data removed]",
      "text/plain": [
       "<Figure size 864x432 with 1 Axes>"
      ]
     },
     "metadata": {
      "needs_background": "light"
     },
     "output_type": "display_data"
    }
   ],
   "source": [
    "# Строим гистограмму по дате и времени\n",
    "df['event_datetime'].hist(bins=20)\n",
    "\n",
    "# Добавляем заголовок и подписи осей\n",
    "plt.title('Гистограмма по дате и времени')\n",
    "plt.xlabel('Дата и время')\n",
    "plt.ylabel('Количество событий')\n",
    "\n",
    "# Поворачиваем подписи на оси X\n",
    "plt.xticks(rotation=45)\n",
    "\n",
    "# Увеличиваем размер графика\n",
    "plt.gcf().set_size_inches(12, 6)"
   ]
  },
  {
   "cell_type": "code",
   "execution_count": 10,
   "metadata": {},
   "outputs": [
    {
     "name": "stdout",
     "output_type": "stream",
     "text": [
      "Полные данные за период с 2019-08-01 по 2019-08-07\n"
     ]
    }
   ],
   "source": [
    "# Определим, с какого момента данные полные и отбросим более старые.\n",
    "start_date = '2019-08-01'\n",
    "start_date = datetime.strptime(start_date, '%Y-%m-%d').date()\n",
    "df = df.loc[df['event_date'] >= start_date]\n",
    "min_date = df['event_date'].min()\n",
    "max_date = df['event_date'].max()\n",
    "print(f'Полные данные за период с {min_date} по {max_date}')\n"
   ]
  },
  {
   "cell_type": "markdown",
   "metadata": {},
   "source": [
    "**Много ли событий и пользователей вы потеряли, отбросив старые данные?**"
   ]
  },
  {
   "cell_type": "code",
   "execution_count": 11,
   "metadata": {},
   "outputs": [
    {
     "name": "stdout",
     "output_type": "stream",
     "text": [
      "Количество потерянных событий: 2826\n",
      "Количество потерянных пользователей: 17\n"
     ]
    }
   ],
   "source": [
    "# Много ли событий и пользователей потеряли, отбросив старые данные\n",
    "lost_event_count = event_count - df['event_name'].count()\n",
    "lost_user_count = user_count - df['device_id'].nunique()\n",
    "print(f'Количество потерянных событий: {lost_event_count}')\n",
    "print(f'Количество потерянных пользователей: {lost_user_count}')"
   ]
  },
  {
   "cell_type": "code",
   "execution_count": 12,
   "metadata": {},
   "outputs": [
    {
     "name": "stdout",
     "output_type": "stream",
     "text": [
      "Доля потерянных событий: 1.16%\n",
      "Доля потерянных пользователей: 0.23%\n"
     ]
    }
   ],
   "source": [
    "# Рассчитываем относительные показатели потерянных событий и пользователей\n",
    "lost_event_ratio = lost_event_count / event_count\n",
    "lost_user_ratio = lost_user_count / user_count\n",
    "print(f'Доля потерянных событий: {lost_event_ratio:.2%}')\n",
    "print(f'Доля потерянных пользователей: {lost_user_ratio:.2%}')"
   ]
  },
  {
   "cell_type": "markdown",
   "metadata": {},
   "source": [
    "**Проверьте, что у вас есть пользователи из всех трёх экспериментальных групп.**"
   ]
  },
  {
   "cell_type": "code",
   "execution_count": 13,
   "metadata": {},
   "outputs": [
    {
     "name": "stdout",
     "output_type": "stream",
     "text": [
      "exp_id\n",
      "246    2484\n",
      "247    2513\n",
      "248    2537\n",
      "Name: device_id, dtype: int64\n"
     ]
    }
   ],
   "source": [
    "# Проверьте, что у вас есть пользователи из всех трёх экспериментальных групп.\n",
    "grouped = df.groupby('exp_id')['device_id'].nunique()\n",
    "print(grouped)"
   ]
  },
  {
   "cell_type": "markdown",
   "metadata": {},
   "source": [
    "## Шаг 4. Изучите воронку событий"
   ]
  },
  {
   "cell_type": "markdown",
   "metadata": {},
   "source": [
    "**Посмотрите, какие события есть в логах, как часто они встречаются. Отсортируйте события по частоте.**"
   ]
  },
  {
   "cell_type": "code",
   "execution_count": 14,
   "metadata": {},
   "outputs": [
    {
     "name": "stdout",
     "output_type": "stream",
     "text": [
      "MainScreenAppear           117328\n",
      "OffersScreenAppear          46333\n",
      "CartScreenAppear            42303\n",
      "PaymentScreenSuccessful     33918\n",
      "Tutorial                     1005\n",
      "Name: event_name, dtype: int64\n"
     ]
    }
   ],
   "source": [
    "# Посмотрим, какие события есть в логах, как часто они встречаются.\n",
    "event_frequency = df['event_name'].value_counts()\n",
    "\n",
    "# Отсортируем события по частоте.\n",
    "event_frequency = event_frequency.sort_values(ascending=False)\n",
    "\n",
    "# Выводим результаты\n",
    "print(event_frequency)"
   ]
  },
  {
   "cell_type": "markdown",
   "metadata": {},
   "source": [
    "**Посчитайте, сколько пользователей совершали каждое из этих событий. Отсортируйте события по числу пользователей. Посчитайте долю пользователей, которые хоть раз совершали событие.**"
   ]
  },
  {
   "cell_type": "code",
   "execution_count": 15,
   "metadata": {},
   "outputs": [
    {
     "name": "stdout",
     "output_type": "stream",
     "text": [
      "event_name\n",
      "MainScreenAppear           7419\n",
      "OffersScreenAppear         4593\n",
      "CartScreenAppear           3734\n",
      "PaymentScreenSuccessful    3539\n",
      "Tutorial                    840\n",
      "Name: device_id, dtype: int64\n",
      "event_name\n",
      "MainScreenAppear           0.982519\n",
      "OffersScreenAppear         0.608264\n",
      "CartScreenAppear           0.494504\n",
      "PaymentScreenSuccessful    0.468680\n",
      "Tutorial                   0.111244\n",
      "Name: device_id, dtype: float64\n"
     ]
    }
   ],
   "source": [
    "# Посчитаем, сколько пользователей совершали каждое из этих событий.\n",
    "event_users = df.groupby('event_name')['device_id'].nunique()\n",
    "\n",
    "# Отсортируем события по числу пользователей.\n",
    "event_users = event_users.sort_values(ascending=False)\n",
    "\n",
    "# Выводим результаты\n",
    "print(event_users)\n",
    "\n",
    "# Посчитаем долю пользователей, которые хоть раз совершали событие.\n",
    "event_users_ratio = event_users / user_count\n",
    "print(event_users_ratio)"
   ]
  },
  {
   "cell_type": "markdown",
   "metadata": {},
   "source": [
    "**Предположите, в каком порядке происходят события. Все ли они выстраиваются в последовательную цепочку? Их не нужно учитывать при расчёте воронки.**"
   ]
  },
  {
   "cell_type": "markdown",
   "metadata": {},
   "source": [
    "На основе названий событий и их частоты можно предположить, что события происходят в следующем порядке: MainScreenAppear -> OffersScreenAppear -> CartScreenAppear -> PaymentScreenSuccessful. \n",
    "Это означает, что пользователь сначала открывает главный экран приложения, затем переходит на экран с предложениями, добавляет товары в корзину, переходит к оплате и успешно оплачивает заказ.\n",
    "Событие Tutorial не выстраивается в эту последовательную цепочку. Это событие может происходить в любой момент и не связано с основным путем пользователя через приложение. Поэтому его не нужно учитывать при расчете воронки."
   ]
  },
  {
   "cell_type": "markdown",
   "metadata": {},
   "source": [
    "**По воронке событий посчитайте, какая доля пользователей проходит на следующий шаг воронки (от числа пользователей на предыдущем). То есть для последовательности событий A → B → C посчитайте отношение числа пользователей с событием B к количеству пользователей с событием A, а также отношение числа пользователей с событием C к количеству пользователей с событием B.**"
   ]
  },
  {
   "cell_type": "code",
   "execution_count": 16,
   "metadata": {},
   "outputs": [
    {
     "data": {
      "text/html": [
       "<div>\n",
       "<style scoped>\n",
       "    .dataframe tbody tr th:only-of-type {\n",
       "        vertical-align: middle;\n",
       "    }\n",
       "\n",
       "    .dataframe tbody tr th {\n",
       "        vertical-align: top;\n",
       "    }\n",
       "\n",
       "    .dataframe thead th {\n",
       "        text-align: right;\n",
       "    }\n",
       "</style>\n",
       "<table border=\"1\" class=\"dataframe\">\n",
       "  <thead>\n",
       "    <tr style=\"text-align: right;\">\n",
       "      <th></th>\n",
       "      <th>event_name</th>\n",
       "      <th>users</th>\n",
       "      <th>conversion</th>\n",
       "    </tr>\n",
       "  </thead>\n",
       "  <tbody>\n",
       "    <tr>\n",
       "      <th>0</th>\n",
       "      <td>MainScreenAppear</td>\n",
       "      <td>7419</td>\n",
       "      <td>NaN</td>\n",
       "    </tr>\n",
       "    <tr>\n",
       "      <th>1</th>\n",
       "      <td>OffersScreenAppear</td>\n",
       "      <td>4593</td>\n",
       "      <td>0.619086</td>\n",
       "    </tr>\n",
       "    <tr>\n",
       "      <th>2</th>\n",
       "      <td>CartScreenAppear</td>\n",
       "      <td>3734</td>\n",
       "      <td>0.812976</td>\n",
       "    </tr>\n",
       "    <tr>\n",
       "      <th>3</th>\n",
       "      <td>PaymentScreenSuccessful</td>\n",
       "      <td>3539</td>\n",
       "      <td>0.947777</td>\n",
       "    </tr>\n",
       "  </tbody>\n",
       "</table>\n",
       "</div>"
      ],
      "text/plain": [
       "                event_name  users  conversion\n",
       "0         MainScreenAppear   7419         NaN\n",
       "1       OffersScreenAppear   4593    0.619086\n",
       "2         CartScreenAppear   3734    0.812976\n",
       "3  PaymentScreenSuccessful   3539    0.947777"
      ]
     },
     "execution_count": 16,
     "metadata": {},
     "output_type": "execute_result"
    }
   ],
   "source": [
    "funnel = event_users.loc[['MainScreenAppear', 'OffersScreenAppear', 'CartScreenAppear', 'PaymentScreenSuccessful']]\n",
    "funnel = funnel.reset_index()\n",
    "funnel.columns = ['event_name', 'users']\n",
    "conversion = []\n",
    "for i in range(len(funnel)-1):\n",
    "    conversion.append(funnel['users'][i+1] / funnel['users'][i])\n",
    "funnel['conversion'] = [None] + conversion\n",
    "funnel"
   ]
  },
  {
   "cell_type": "markdown",
   "metadata": {},
   "source": [
    "**На каком шаге теряете больше всего пользователей?**"
   ]
  },
  {
   "cell_type": "markdown",
   "metadata": {},
   "source": [
    "Больше всего пользователей теряется на шаге между событиями MainScreenAppear и OffersScreenAppear. Только 62% пользователей, которые открыли главный экран, перешли на экран с предложениями."
   ]
  },
  {
   "cell_type": "markdown",
   "metadata": {},
   "source": [
    "**Какая доля пользователей доходит от первого события до оплаты?**"
   ]
  },
  {
   "cell_type": "code",
   "execution_count": 17,
   "metadata": {},
   "outputs": [
    {
     "data": {
      "text/plain": [
       "0.47701846610055265"
      ]
     },
     "execution_count": 17,
     "metadata": {},
     "output_type": "execute_result"
    }
   ],
   "source": [
    "overall_conversion = event_users['PaymentScreenSuccessful'] / event_users['MainScreenAppear']\n",
    "overall_conversion"
   ]
  },
  {
   "cell_type": "markdown",
   "metadata": {},
   "source": [
    "Примерно 47.7% пользователей, которые открыли главный экран, дошли до оплаты."
   ]
  },
  {
   "cell_type": "markdown",
   "metadata": {},
   "source": [
    "## Шаг 5. Изучите результаты эксперимента"
   ]
  },
  {
   "cell_type": "markdown",
   "metadata": {},
   "source": [
    "**Сколько пользователей в каждой экспериментальной группе?**"
   ]
  },
  {
   "cell_type": "code",
   "execution_count": 18,
   "metadata": {},
   "outputs": [
    {
     "data": {
      "text/plain": [
       "exp_id\n",
       "246    2484\n",
       "247    2513\n",
       "248    2537\n",
       "Name: device_id, dtype: int64"
      ]
     },
     "execution_count": 18,
     "metadata": {},
     "output_type": "execute_result"
    }
   ],
   "source": [
    "users_per_group = df.groupby('exp_id')['device_id'].nunique()\n",
    "users_per_group"
   ]
  },
  {
   "cell_type": "markdown",
   "metadata": {},
   "source": [
    "В группе 246 есть 2484 уникальных пользователя, в группе 247 - 2513 уникальных пользователя и в группе 248 - 2537 уникальных пользователя."
   ]
  },
  {
   "cell_type": "markdown",
   "metadata": {},
   "source": [
    "**Есть 2 контрольные группы для А/А-эксперимента, чтобы проверить корректность всех механизмов и расчётов. Проверьте, находят ли статистические критерии разницу между выборками 246 и 247.**"
   ]
  },
  {
   "cell_type": "code",
   "execution_count": 19,
   "metadata": {},
   "outputs": [
    {
     "name": "stdout",
     "output_type": "stream",
     "text": [
      "exp_id\n",
      "246    0.483092\n",
      "247    0.460804\n",
      "248    0.465510\n",
      "Name: device_id, dtype: float64\n"
     ]
    }
   ],
   "source": [
    "# Вычисляем количество уникальных пользователей в каждой группе\n",
    "users_per_group = df.groupby('exp_id')['device_id'].nunique()\n",
    "\n",
    "# Вычисляем количество уникальных пользователей, которые дошли до оплаты в каждой группе\n",
    "payments_per_group = df[df['event_name'] == 'PaymentScreenSuccessful'].groupby('exp_id')['device_id'].nunique()\n",
    "\n",
    "# Вычисляем долю пользователей, которые дошли до оплаты в каждой группе\n",
    "conversion_per_group = payments_per_group / users_per_group\n",
    "\n",
    "# Выводим результаты\n",
    "print(conversion_per_group)"
   ]
  },
  {
   "cell_type": "code",
   "execution_count": 20,
   "metadata": {},
   "outputs": [
    {
     "name": "stdout",
     "output_type": "stream",
     "text": [
      "z-статистика: 1.58\n",
      "p-значение: 0.115\n"
     ]
    }
   ],
   "source": [
    "# Определяем параметры для z-критерия\n",
    "p1 = conversion_per_group[246]\n",
    "p2 = conversion_per_group[247]\n",
    "n1 = users_per_group[246]\n",
    "n2 = users_per_group[247]\n",
    "\n",
    "# Вычисляем z-статистику и p-значение\n",
    "p_combined = (p1 * n1 + p2 * n2) / (n1 + n2)\n",
    "z_value = (p1 - p2) / np.sqrt(p_combined * (1 - p_combined) * (1/n1 + 1/n2))\n",
    "p_value = st.norm.sf(abs(z_value)) * 2\n",
    "\n",
    "# Выводим результаты\n",
    "print(f'z-статистика: {z_value:.2f}')\n",
    "print(f'p-значение: {p_value:.3f}')"
   ]
  },
  {
   "cell_type": "markdown",
   "metadata": {},
   "source": [
    "В этом случае p-значение больше общепринятого уровня значимости 0.05, поэтому мы не можем отвергнуть нулевую гипотезу о равенстве долей. Это означает, что нет статистически значимой разницы между долями пользователей, которые дошли до оплаты в группах 246 и 247."
   ]
  },
  {
   "cell_type": "markdown",
   "metadata": {},
   "source": [
    "**Выберите самое популярное событие. Посчитайте число пользователей, совершивших это событие в каждой из контрольных групп. Посчитайте долю пользователей, совершивших это событие. Проверьте, будет ли отличие между группами статистически достоверным. Проделайте то же самое для всех других событий (удобно обернуть проверку в отдельную функцию). Можно ли сказать, что разбиение на группы работает корректно?**"
   ]
  },
  {
   "cell_type": "code",
   "execution_count": 21,
   "metadata": {},
   "outputs": [
    {
     "name": "stdout",
     "output_type": "stream",
     "text": [
      "Самое популярное событие: MainScreenAppear\n",
      "H0: Конверсия в самое популярное событие не отличается между контрольными группами.\n",
      "H1: Конверсия в самое популярное событие отличается между контрольными группами.\n"
     ]
    }
   ],
   "source": [
    "def z_test(successes1, trials1, successes2, trials2):\n",
    "    alpha = .05 # уровень значимости\n",
    "\n",
    "    # пропорция успехов в первой группе:\n",
    "    p1 = successes1 / trials1\n",
    "    # пропорция успехов во второй группе:\n",
    "    p2 = successes2 / trials2\n",
    "\n",
    "    # пропорция успехов в комбинированном датасете:\n",
    "    p_combined = (successes1 + successes2) / (trials1 + trials2)\n",
    "\n",
    "    # разница пропорций в датасетах\n",
    "    difference = p1 - p2\n",
    "\n",
    "    # стандартная ошибка для разности пропорций\n",
    "    se = np.sqrt(p_combined * (1 - p_combined) * (1/trials1 + 1/trials2))\n",
    "\n",
    "    # z-статистика\n",
    "    z_value = difference / se\n",
    "\n",
    "    # задаем стандартное нормальное распределение (mean=0, std=1)\n",
    "    distr = st.norm(0, 1)\n",
    "\n",
    "    p_value = (1 - distr.cdf(abs(z_value))) * 2\n",
    "\n",
    "    print('p-значение:', p_value)\n",
    "\n",
    "    if p_value < alpha:\n",
    "        print('Отвергаем нулевую гипотезу: между долями есть значимая разница')\n",
    "    else:\n",
    "        print('Не получилось отвергнуть нулевую гипотезу: нет оснований считать доли разными')\n",
    "\n",
    "def test_event(event_name, group1, group2):\n",
    "    event_users_per_group = df[df['event_name'] == event_name].groupby('exp_id')['device_id'].nunique()\n",
    "    group1_successes, group1_trials = event_users_per_group[group1], users_per_group[group1]\n",
    "    group2_successes, group2_trials = event_users_per_group[group2], users_per_group[group2]\n",
    "    \n",
    "    print(f'Событие: {event_name}')\n",
    "    \n",
    "    z_test(group1_successes, group1_trials, group2_successes, group2_trials)\n",
    "\n",
    "# Выбираем самое популярное событие\n",
    "most_popular_event = df['event_name'].value_counts().index[0]\n",
    "print(f'Самое популярное событие: {most_popular_event}')\n",
    "\n",
    "# Посчитаем число пользователей, совершивших это событие в каждой из контрольных групп:\n",
    "event_users_per_group = df[df['event_name'] == most_popular_event].groupby('exp_id')['device_id'].nunique()\n",
    "event_users_per_group\n",
    "\n",
    "# Посчитаем долю пользователей, совершивших это событие в каждой из контрольных групп:\n",
    "users_per_group = df.groupby('exp_id')['device_id'].nunique()\n",
    "event_conversion_per_group = event_users_per_group / users_per_group\n",
    "event_conversion_per_group\n",
    "\n",
    "# Формулируем нулевую и альтернативную гипотезы\n",
    "print('H0: Конверсия в самое популярное событие не отличается между контрольными группами.')\n",
    "print('H1: Конверсия в самое популярное событие отличается между контрольными группами.')\n"
   ]
  },
  {
   "cell_type": "code",
   "execution_count": 22,
   "metadata": {},
   "outputs": [
    {
     "name": "stdout",
     "output_type": "stream",
     "text": [
      "p-значение: 0.7570597232046099\n",
      "Не получилось отвергнуть нулевую гипотезу: нет оснований считать доли разными\n",
      "Событие: Tutorial\n",
      "p-значение: 0.9376996189257114\n",
      "Не получилось отвергнуть нулевую гипотезу: нет оснований считать доли разными\n",
      "Событие: MainScreenAppear\n",
      "p-значение: 0.7570597232046099\n",
      "Не получилось отвергнуть нулевую гипотезу: нет оснований считать доли разными\n",
      "Событие: OffersScreenAppear\n",
      "p-значение: 0.2480954578522181\n",
      "Не получилось отвергнуть нулевую гипотезу: нет оснований считать доли разными\n",
      "Событие: CartScreenAppear\n",
      "p-значение: 0.22883372237997213\n",
      "Не получилось отвергнуть нулевую гипотезу: нет оснований считать доли разными\n",
      "Событие: PaymentScreenSuccessful\n",
      "p-значение: 0.11456679313141849\n",
      "Не получилось отвергнуть нулевую гипотезу: нет оснований считать доли разными\n"
     ]
    }
   ],
   "source": [
    "# Вызываем функцию z_test для сравнения групп group1 и group3\n",
    "successes1 = event_users_per_group[246]\n",
    "trials1 = users_per_group[246]\n",
    "successes2 = event_users_per_group[247]\n",
    "trials2 = users_per_group[247]\n",
    "z_test(successes1, trials1, successes2, trials2)\n",
    "\n",
    "# Проверяем гипотезы для всех событий между контрольными группами 246 и 247\n",
    "for event_name in df['event_name'].unique():\n",
    "    test_event(event_name, 246, 247)"
   ]
  },
  {
   "cell_type": "markdown",
   "metadata": {},
   "source": [
    "Во всех случаях p-значение больше общепринятого уровня значимости 0.05, поэтому мы не можем отвергнуть нулевую гипотезу о равенстве долей. Это означает, что нет статистически значимой разницы между долями пользователей, которые совершили каждое из событий в группах 246 и 247.\n",
    "На основе этих результатов можно сказать, что разбиение на группы работает корректно, поскольку нет статистически значимой разницы между долями пользователей в контрольных группах для всех событий."
   ]
  },
  {
   "cell_type": "markdown",
   "metadata": {},
   "source": [
    "**Аналогично поступите с группой с изменённым шрифтом. Сравните результаты с каждой из контрольных групп в отдельности по каждому событию. Сравните результаты с объединённой контрольной группой. Какие выводы из эксперимента можно сделать?**"
   ]
  },
  {
   "cell_type": "code",
   "execution_count": 23,
   "metadata": {},
   "outputs": [
    {
     "name": "stdout",
     "output_type": "stream",
     "text": [
      "Контрольная группа 246 против экспериментальной группы 248:\n",
      "Событие: Tutorial\n",
      "p-значение: 0.8264294010087645\n",
      "Не получилось отвергнуть нулевую гипотезу: нет оснований считать доли разными\n",
      "Событие: MainScreenAppear\n",
      "p-значение: 0.2949721933554552\n",
      "Не получилось отвергнуть нулевую гипотезу: нет оснований считать доли разными\n",
      "Событие: OffersScreenAppear\n",
      "p-значение: 0.20836205402738917\n",
      "Не получилось отвергнуть нулевую гипотезу: нет оснований считать доли разными\n",
      "Событие: CartScreenAppear\n",
      "p-значение: 0.07842923237520116\n",
      "Не получилось отвергнуть нулевую гипотезу: нет оснований считать доли разными\n",
      "Событие: PaymentScreenSuccessful\n",
      "p-значение: 0.2122553275697796\n",
      "Не получилось отвергнуть нулевую гипотезу: нет оснований считать доли разными\n",
      "Контрольная группа 247 против экспериментальной группы 248:\n",
      "Событие: Tutorial\n",
      "p-значение: 0.765323922474501\n",
      "Не получилось отвергнуть нулевую гипотезу: нет оснований считать доли разными\n",
      "Событие: MainScreenAppear\n",
      "p-значение: 0.4587053616621515\n",
      "Не получилось отвергнуть нулевую гипотезу: нет оснований считать доли разными\n",
      "Событие: OffersScreenAppear\n",
      "p-значение: 0.9197817830592261\n",
      "Не получилось отвергнуть нулевую гипотезу: нет оснований считать доли разными\n",
      "Событие: CartScreenAppear\n",
      "p-значение: 0.5786197879539783\n",
      "Не получилось отвергнуть нулевую гипотезу: нет оснований считать доли разными\n",
      "Событие: PaymentScreenSuccessful\n",
      "p-значение: 0.7373415053803964\n",
      "Не получилось отвергнуть нулевую гипотезу: нет оснований считать доли разными\n",
      "Объединенная контрольная группа против экспериментальной группы 248:\n",
      "Событие: Tutorial\n",
      "p-значение: 0.764862472531507\n",
      "Не получилось отвергнуть нулевую гипотезу: нет оснований считать доли разными\n",
      "Событие: MainScreenAppear\n",
      "p-значение: 0.29424526837179577\n",
      "Не получилось отвергнуть нулевую гипотезу: нет оснований считать доли разными\n",
      "Событие: OffersScreenAppear\n",
      "p-значение: 0.43425549655188256\n",
      "Не получилось отвергнуть нулевую гипотезу: нет оснований считать доли разными\n",
      "Событие: CartScreenAppear\n",
      "p-значение: 0.18175875284404386\n",
      "Не получилось отвергнуть нулевую гипотезу: нет оснований считать доли разными\n",
      "Событие: PaymentScreenSuccessful\n",
      "p-значение: 0.6004294282308704\n",
      "Не получилось отвергнуть нулевую гипотезу: нет оснований считать доли разными\n"
     ]
    }
   ],
   "source": [
    "def z_test(successes1, trials1, successes2, trials2):\n",
    "    alpha = .05 # уровень значимости\n",
    "\n",
    "    # пропорция успехов в первой группе:\n",
    "    p1 = successes1 / trials1\n",
    "    # пропорция успехов во второй группе:\n",
    "    p2 = successes2 / trials2\n",
    "\n",
    "    # пропорция успехов в комбинированном датасете:\n",
    "    p_combined = (successes1 + successes2) / (trials1 + trials2)\n",
    "\n",
    "    # разница пропорций в датасетах\n",
    "    difference = p1 - p2\n",
    "\n",
    "    # стандартная ошибка для разности пропорций\n",
    "    se = np.sqrt(p_combined * (1 - p_combined) * (1/trials1 + 1/trials2))\n",
    "\n",
    "    # z-статистика\n",
    "    z_value = difference / se\n",
    "\n",
    "    # задаем стандартное нормальное распределение (mean=0, std=1)\n",
    "    distr = st.norm(0, 1)\n",
    "\n",
    "    p_value = (1 - distr.cdf(abs(z_value))) * 2\n",
    "\n",
    "    print('p-значение:', p_value)\n",
    "\n",
    "    if p_value < alpha:\n",
    "        print('Отвергаем нулевую гипотезу: между долями есть значимая разница')\n",
    "    else:\n",
    "        print('Не получилось отвергнуть нулевую гипотезу: нет оснований считать доли разными')\n",
    "        \n",
    "def test_event(event_name, group1, group2):\n",
    "    event_users_per_group = df[df['event_name'] == event_name].groupby('exp_id')['device_id'].nunique()\n",
    "    group1_successes, group1_trials = event_users_per_group[group1], users_per_group[group1]\n",
    "    group2_successes, group2_trials = event_users_per_group[group2], users_per_group[group2]\n",
    "    \n",
    "    print(f'Событие: {event_name}')\n",
    "    \n",
    "    z_test(group1_successes, group1_trials, group2_successes, group2_trials)\n",
    "\n",
    "# Сравниваем каждую контрольную группу с группой с измененным шрифтом\n",
    "for control_group in [246, 247]:\n",
    "    print(f'Контрольная группа {control_group} против экспериментальной группы 248:')\n",
    "    \n",
    "    for event_name in df['event_name'].unique():\n",
    "        test_event(event_name, control_group, 248)\n",
    "    \n",
    "# Сравниваем объединенную контрольную группу с группой с измененным шрифтом\n",
    "print(f'Объединенная контрольная группа против экспериментальной группы 248:')\n",
    "for event_name in df['event_name'].unique():\n",
    "    event_users_per_group = df[df['event_name'] == event_name].groupby('exp_id')['device_id'].nunique()\n",
    "    \n",
    "    successes1 = event_users_per_group[246] + event_users_per_group[247]\n",
    "    trials1 = users_per_group[246] + users_per_group[247]\n",
    "    successes2 = event_users_per_group[248]\n",
    "    trials2 = users_per_group[248]\n",
    "    \n",
    "    print(f'Событие: {event_name}')\n",
    "    \n",
    "    z_test(successes1, trials1, successes2, trials2)      "
   ]
  },
  {
   "cell_type": "markdown",
   "metadata": {},
   "source": [
    "На основе предоставленных результатов можно сделать вывод, что нет статистически значимых различий в конверсии между контрольными группами и экспериментальной группой с измененным шрифтом для всех проверенных событий. Значения p-значения для всех событий выше обычного порога значимости 0.05, что означает, что мы не можем отвергнуть нулевую гипотезу о равенстве долей между группами. Это означает, что изменение шрифта не оказало значимого влияния на конверсию в рассматриваемые события."
   ]
  },
  {
   "cell_type": "markdown",
   "metadata": {},
   "source": [
    "**Какой уровень значимости вы выбрали при проверке статистических гипотез выше? Посчитайте, сколько проверок статистических гипотез вы сделали. При уровне значимости 0.1 каждый десятый раз можно получать ложный результат. Какой уровень значимости стоит применить? Если вы хотите изменить его, проделайте предыдущие пункты и проверьте свои выводы.**"
   ]
  },
  {
   "cell_type": "code",
   "execution_count": 26,
   "metadata": {},
   "outputs": [
    {
     "name": "stdout",
     "output_type": "stream",
     "text": [
      "Контрольная группа 246 против экспериментальной группы 248:\n",
      "z-статистика: 1.05\n",
      "p-значение: 0.295\n",
      "Различия между группами не являются статистически значимыми\n",
      "\n",
      "Контрольная группа 247 против экспериментальной группы 248:\n",
      "z-статистика: 0.74\n",
      "p-значение: 0.459\n",
      "Различия между группами не являются статистически значимыми\n",
      "\n",
      "Объединенная контрольная группа против экспериментальной группы 248:\n",
      "z-статистика: 1.09\n",
      "p-значение: 0.277\n",
      "Различия между группами не являются статистически значимыми\n"
     ]
    }
   ],
   "source": [
    "# Задаем уровень значимости\n",
    "alpha = 0.05\n",
    "\n",
    "# Посчитайте количество проверок статистических гипотез\n",
    "num_tests = 3\n",
    "\n",
    "# Применяем поправку на множественное сравнение \n",
    "alpha /= num_tests\n",
    "\n",
    "# Определяем функцию для z-теста\n",
    "def z_test(group1, group2):\n",
    "    p1 = event_conversion_per_group[group1]\n",
    "    p2 = event_conversion_per_group[group2]\n",
    "    n1 = users_per_group[group1]\n",
    "    n2 = users_per_group[group2]\n",
    "\n",
    "    p_combined = (p1 * n1 + p2 * n2) / (n1 + n2)\n",
    "    z_value = (p1 - p2) / np.sqrt(p_combined * (1 - p_combined) * (1/n1 + 1/n2))\n",
    "    p_value = norm.sf(abs(z_value)) * 2\n",
    "\n",
    "    return z_value, p_value\n",
    "\n",
    "# Сравниваем каждую контрольную группу с группой с измененным шрифтом\n",
    "for control_group in [246, 247]:\n",
    "    z_value, p_value = z_test(control_group, 248)\n",
    "    print(f'Контрольная группа {control_group} против экспериментальной группы 248:')\n",
    "    print(f'z-статистика: {z_value:.2f}')\n",
    "    print(f'p-значение: {p_value:.3f}')\n",
    "    if p_value < alpha:\n",
    "        print('Различия между группами статистически значимы')\n",
    "    else:\n",
    "        print('Различия между группами не являются статистически значимыми')\n",
    "    print()\n",
    "\n",
    "# Сравниваем объединенную контрольную группу с группой с измененным шрифтом\n",
    "n_combined = users_per_group[246] + users_per_group[247]\n",
    "p_combined = (event_conversion_per_group[246] * users_per_group[246] + event_conversion_per_group[247] * users_per_group[247]) / n_combined\n",
    "\n",
    "z_value = (p_combined - event_conversion_per_group[248]) / np.sqrt(p_combined * (1 - p_combined) * (1/n_combined + 1/users_per_group[248]))\n",
    "p_value = norm.sf(abs(z_value)) * 2\n",
    "\n",
    "print(f'Объединенная контрольная группа против экспериментальной группы 248:')\n",
    "print(f'z-статистика: {z_value:.2f}')\n",
    "print(f'p-значение: {p_value:.3f}')\n",
    "if p_value < alpha:\n",
    "    print('Различия между группами статистически значимы')\n",
    "else:\n",
    "    print('Различия между группами не являются статистически значимыми')"
   ]
  },
  {
   "cell_type": "markdown",
   "metadata": {},
   "source": [
    "На основе полученных результатов можно сделать вывод о том, что различия между контрольными группами и группой с измененным шрифтом не являются статистически значимыми. Это означает, что изменение шрифта не оказало статистически значимого влияния на поведение пользователей.\n",
    "Однако стоит отметить, что эти выводы сделаны на основе выбранного уровня значимости (0.05) и могут измениться при выборе другого уровня значимости."
   ]
  }
 ],
 "metadata": {
  "ExecuteTimeLog": [
   {
    "duration": 49,
    "start_time": "2023-06-24T09:09:39.765Z"
   },
   {
    "duration": 428,
    "start_time": "2023-06-24T09:09:53.879Z"
   },
   {
    "duration": 634,
    "start_time": "2023-06-24T09:09:54.310Z"
   },
   {
    "duration": 316,
    "start_time": "2023-06-24T09:10:31.956Z"
   },
   {
    "duration": 387,
    "start_time": "2023-06-24T09:10:38.141Z"
   },
   {
    "duration": 298,
    "start_time": "2023-06-24T09:10:38.530Z"
   },
   {
    "duration": 311,
    "start_time": "2023-06-24T09:11:05.500Z"
   },
   {
    "duration": 206,
    "start_time": "2023-06-24T09:14:00.372Z"
   },
   {
    "duration": 371,
    "start_time": "2023-06-24T09:17:49.341Z"
   },
   {
    "duration": 168,
    "start_time": "2023-06-24T09:17:49.714Z"
   },
   {
    "duration": 2,
    "start_time": "2023-06-24T09:17:49.884Z"
   },
   {
    "duration": 389,
    "start_time": "2023-06-24T09:18:02.261Z"
   },
   {
    "duration": 169,
    "start_time": "2023-06-24T09:18:02.652Z"
   },
   {
    "duration": 430,
    "start_time": "2023-06-24T09:18:54.310Z"
   },
   {
    "duration": 174,
    "start_time": "2023-06-24T09:18:54.743Z"
   },
   {
    "duration": 391,
    "start_time": "2023-06-24T09:27:57.172Z"
   },
   {
    "duration": 191,
    "start_time": "2023-06-24T09:27:57.565Z"
   },
   {
    "duration": 14,
    "start_time": "2023-06-24T09:28:13.333Z"
   },
   {
    "duration": 15,
    "start_time": "2023-06-24T09:29:06.494Z"
   },
   {
    "duration": 34,
    "start_time": "2023-06-24T09:30:33.182Z"
   },
   {
    "duration": 432,
    "start_time": "2023-06-24T09:35:00.800Z"
   },
   {
    "duration": 208,
    "start_time": "2023-06-24T09:35:01.235Z"
   },
   {
    "duration": 11,
    "start_time": "2023-06-24T09:35:01.445Z"
   },
   {
    "duration": 95,
    "start_time": "2023-06-24T09:35:01.458Z"
   },
   {
    "duration": 96,
    "start_time": "2023-06-24T09:38:53.340Z"
   },
   {
    "duration": 383,
    "start_time": "2023-06-24T09:40:16.251Z"
   },
   {
    "duration": 188,
    "start_time": "2023-06-24T09:40:16.636Z"
   },
   {
    "duration": 10,
    "start_time": "2023-06-24T09:40:16.825Z"
   },
   {
    "duration": 61,
    "start_time": "2023-06-24T09:40:16.836Z"
   },
   {
    "duration": 183,
    "start_time": "2023-06-24T09:40:16.899Z"
   },
   {
    "duration": 11,
    "start_time": "2023-06-24T09:40:59.926Z"
   },
   {
    "duration": 13,
    "start_time": "2023-06-24T09:43:24.517Z"
   },
   {
    "duration": 432,
    "start_time": "2023-06-24T09:55:24.184Z"
   },
   {
    "duration": 194,
    "start_time": "2023-06-24T09:55:24.621Z"
   },
   {
    "duration": 11,
    "start_time": "2023-06-24T09:55:24.817Z"
   },
   {
    "duration": 30,
    "start_time": "2023-06-24T09:55:24.830Z"
   },
   {
    "duration": 89,
    "start_time": "2023-06-24T09:55:24.861Z"
   },
   {
    "duration": 11,
    "start_time": "2023-06-24T09:55:24.952Z"
   },
   {
    "duration": 24,
    "start_time": "2023-06-24T09:55:24.964Z"
   },
   {
    "duration": 26,
    "start_time": "2023-06-24T09:55:40.047Z"
   },
   {
    "duration": 752,
    "start_time": "2023-06-24T09:55:56.133Z"
   },
   {
    "duration": 259,
    "start_time": "2023-06-24T10:01:14.736Z"
   },
   {
    "duration": 561,
    "start_time": "2023-06-24T10:03:02.672Z"
   },
   {
    "duration": 428,
    "start_time": "2023-06-24T10:03:23.319Z"
   },
   {
    "duration": 204,
    "start_time": "2023-06-24T10:03:23.748Z"
   },
   {
    "duration": 12,
    "start_time": "2023-06-24T10:03:23.955Z"
   },
   {
    "duration": 67,
    "start_time": "2023-06-24T10:03:23.970Z"
   },
   {
    "duration": 107,
    "start_time": "2023-06-24T10:03:24.040Z"
   },
   {
    "duration": 11,
    "start_time": "2023-06-24T10:03:24.149Z"
   },
   {
    "duration": 38,
    "start_time": "2023-06-24T10:03:24.163Z"
   },
   {
    "duration": 38,
    "start_time": "2023-06-24T10:03:24.206Z"
   },
   {
    "duration": 673,
    "start_time": "2023-06-24T10:03:24.247Z"
   },
   {
    "duration": 424,
    "start_time": "2023-06-24T10:03:24.923Z"
   },
   {
    "duration": 41,
    "start_time": "2023-06-24T10:05:11.138Z"
   },
   {
    "duration": 56,
    "start_time": "2023-06-24T10:05:56.122Z"
   },
   {
    "duration": 63,
    "start_time": "2023-06-24T10:08:02.275Z"
   },
   {
    "duration": 37,
    "start_time": "2023-06-24T10:08:34.605Z"
   },
   {
    "duration": 60,
    "start_time": "2023-06-24T10:16:28.992Z"
   },
   {
    "duration": 59,
    "start_time": "2023-06-24T10:18:14.635Z"
   },
   {
    "duration": 15,
    "start_time": "2023-06-24T10:19:50.166Z"
   },
   {
    "duration": 30,
    "start_time": "2023-06-24T10:19:53.020Z"
   },
   {
    "duration": 395,
    "start_time": "2023-06-24T10:20:00.369Z"
   },
   {
    "duration": 193,
    "start_time": "2023-06-24T10:20:00.767Z"
   },
   {
    "duration": 11,
    "start_time": "2023-06-24T10:20:00.962Z"
   },
   {
    "duration": 67,
    "start_time": "2023-06-24T10:20:00.975Z"
   },
   {
    "duration": 137,
    "start_time": "2023-06-24T10:20:01.043Z"
   },
   {
    "duration": 28,
    "start_time": "2023-06-24T10:20:01.182Z"
   },
   {
    "duration": 93,
    "start_time": "2023-06-24T10:20:01.212Z"
   },
   {
    "duration": 104,
    "start_time": "2023-06-24T10:20:01.307Z"
   },
   {
    "duration": 725,
    "start_time": "2023-06-24T10:20:01.414Z"
   },
   {
    "duration": 73,
    "start_time": "2023-06-24T10:20:02.143Z"
   },
   {
    "duration": 138,
    "start_time": "2023-06-24T10:20:02.218Z"
   },
   {
    "duration": 539,
    "start_time": "2023-06-24T10:20:02.358Z"
   },
   {
    "duration": 0,
    "start_time": "2023-06-24T10:20:02.899Z"
   },
   {
    "duration": 395,
    "start_time": "2023-06-24T10:26:37.972Z"
   },
   {
    "duration": 193,
    "start_time": "2023-06-24T10:26:38.369Z"
   },
   {
    "duration": 10,
    "start_time": "2023-06-24T10:26:38.564Z"
   },
   {
    "duration": 52,
    "start_time": "2023-06-24T10:26:38.576Z"
   },
   {
    "duration": 94,
    "start_time": "2023-06-24T10:26:38.630Z"
   },
   {
    "duration": 10,
    "start_time": "2023-06-24T10:26:38.726Z"
   },
   {
    "duration": 19,
    "start_time": "2023-06-24T10:26:38.737Z"
   },
   {
    "duration": 27,
    "start_time": "2023-06-24T10:26:38.757Z"
   },
   {
    "duration": 683,
    "start_time": "2023-06-24T10:26:38.786Z"
   },
   {
    "duration": 70,
    "start_time": "2023-06-24T10:26:39.471Z"
   },
   {
    "duration": 16,
    "start_time": "2023-06-24T10:26:39.543Z"
   },
   {
    "duration": 54,
    "start_time": "2023-06-24T10:26:39.561Z"
   },
   {
    "duration": 29,
    "start_time": "2023-06-24T11:47:36.700Z"
   },
   {
    "duration": 21,
    "start_time": "2023-06-24T12:10:16.366Z"
   },
   {
    "duration": 20,
    "start_time": "2023-06-24T12:10:19.905Z"
   },
   {
    "duration": 57,
    "start_time": "2023-06-24T12:11:02.134Z"
   },
   {
    "duration": 451,
    "start_time": "2023-06-24T12:17:30.027Z"
   },
   {
    "duration": 262,
    "start_time": "2023-06-24T12:17:30.481Z"
   },
   {
    "duration": 14,
    "start_time": "2023-06-24T12:17:30.746Z"
   },
   {
    "duration": 140,
    "start_time": "2023-06-24T12:17:30.763Z"
   },
   {
    "duration": 299,
    "start_time": "2023-06-24T12:17:30.906Z"
   },
   {
    "duration": 25,
    "start_time": "2023-06-24T12:17:31.217Z"
   },
   {
    "duration": 55,
    "start_time": "2023-06-24T12:17:31.244Z"
   },
   {
    "duration": 125,
    "start_time": "2023-06-24T12:17:31.305Z"
   },
   {
    "duration": 859,
    "start_time": "2023-06-24T12:17:31.433Z"
   },
   {
    "duration": 100,
    "start_time": "2023-06-24T12:17:32.294Z"
   },
   {
    "duration": 27,
    "start_time": "2023-06-24T12:17:32.404Z"
   },
   {
    "duration": 95,
    "start_time": "2023-06-24T12:17:32.433Z"
   },
   {
    "duration": 36,
    "start_time": "2023-06-24T12:17:32.536Z"
   },
   {
    "duration": 183,
    "start_time": "2023-06-24T12:17:32.577Z"
   },
   {
    "duration": 14,
    "start_time": "2023-06-24T12:24:22.203Z"
   },
   {
    "duration": 5,
    "start_time": "2023-06-24T12:30:18.604Z"
   },
   {
    "duration": 33,
    "start_time": "2023-06-24T12:32:58.030Z"
   },
   {
    "duration": 51,
    "start_time": "2023-06-24T12:45:56.136Z"
   },
   {
    "duration": 623,
    "start_time": "2023-06-24T12:46:05.500Z"
   },
   {
    "duration": 8,
    "start_time": "2023-06-24T12:47:14.012Z"
   },
   {
    "duration": 34,
    "start_time": "2023-06-24T12:52:11.022Z"
   },
   {
    "duration": 62,
    "start_time": "2023-06-24T12:52:30.550Z"
   },
   {
    "duration": 6,
    "start_time": "2023-06-24T12:54:04.846Z"
   },
   {
    "duration": 47,
    "start_time": "2023-06-24T12:54:55.212Z"
   },
   {
    "duration": 52,
    "start_time": "2023-06-24T12:55:49.129Z"
   },
   {
    "duration": 33,
    "start_time": "2023-06-24T12:56:37.459Z"
   },
   {
    "duration": 33,
    "start_time": "2023-06-24T13:05:40.218Z"
   },
   {
    "duration": 7,
    "start_time": "2023-06-24T13:07:35.876Z"
   },
   {
    "duration": 133,
    "start_time": "2023-06-24T13:28:16.363Z"
   },
   {
    "duration": 141,
    "start_time": "2023-06-24T13:33:47.803Z"
   },
   {
    "duration": 135,
    "start_time": "2023-06-24T13:34:16.125Z"
   },
   {
    "duration": 3,
    "start_time": "2023-06-24T13:34:42.357Z"
   },
   {
    "duration": 1114,
    "start_time": "2023-06-24T13:35:05.849Z"
   },
   {
    "duration": 1326,
    "start_time": "2023-06-24T13:37:47.912Z"
   },
   {
    "duration": 140,
    "start_time": "2023-06-24T13:46:07.440Z"
   },
   {
    "duration": 3254,
    "start_time": "2023-06-24T13:47:05.016Z"
   },
   {
    "duration": 2359,
    "start_time": "2023-06-24T13:49:47.109Z"
   },
   {
    "duration": 449,
    "start_time": "2023-06-24T13:50:59.408Z"
   },
   {
    "duration": 178,
    "start_time": "2023-06-24T13:50:59.859Z"
   },
   {
    "duration": 14,
    "start_time": "2023-06-24T13:51:00.039Z"
   },
   {
    "duration": 63,
    "start_time": "2023-06-24T13:51:00.055Z"
   },
   {
    "duration": 90,
    "start_time": "2023-06-24T13:51:00.119Z"
   },
   {
    "duration": 11,
    "start_time": "2023-06-24T13:51:00.211Z"
   },
   {
    "duration": 33,
    "start_time": "2023-06-24T13:51:00.223Z"
   },
   {
    "duration": 27,
    "start_time": "2023-06-24T13:51:00.258Z"
   },
   {
    "duration": 734,
    "start_time": "2023-06-24T13:51:00.286Z"
   },
   {
    "duration": 60,
    "start_time": "2023-06-24T13:51:01.023Z"
   },
   {
    "duration": 69,
    "start_time": "2023-06-24T13:51:01.085Z"
   },
   {
    "duration": 82,
    "start_time": "2023-06-24T13:51:01.156Z"
   },
   {
    "duration": 27,
    "start_time": "2023-06-24T13:51:01.240Z"
   },
   {
    "duration": 90,
    "start_time": "2023-06-24T13:51:01.269Z"
   },
   {
    "duration": 40,
    "start_time": "2023-06-24T13:51:01.361Z"
   },
   {
    "duration": 91,
    "start_time": "2023-06-24T13:51:01.403Z"
   },
   {
    "duration": 104,
    "start_time": "2023-06-24T13:51:01.496Z"
   },
   {
    "duration": 72,
    "start_time": "2023-06-24T13:51:01.602Z"
   },
   {
    "duration": 532,
    "start_time": "2023-06-24T13:51:01.677Z"
   },
   {
    "duration": 38,
    "start_time": "2023-06-24T13:51:02.211Z"
   },
   {
    "duration": 75,
    "start_time": "2023-06-24T13:51:02.251Z"
   },
   {
    "duration": 45,
    "start_time": "2023-06-24T13:51:02.328Z"
   },
   {
    "duration": 7,
    "start_time": "2023-06-24T13:51:02.376Z"
   },
   {
    "duration": 154,
    "start_time": "2023-06-24T13:51:02.402Z"
   },
   {
    "duration": 144,
    "start_time": "2023-06-24T13:51:02.558Z"
   },
   {
    "duration": 2318,
    "start_time": "2023-06-24T13:51:02.704Z"
   },
   {
    "duration": 94,
    "start_time": "2023-06-24T14:37:08.173Z"
   },
   {
    "duration": 11,
    "start_time": "2023-06-24T14:45:53.239Z"
   },
   {
    "duration": 403,
    "start_time": "2023-06-24T14:45:59.146Z"
   },
   {
    "duration": 174,
    "start_time": "2023-06-24T14:45:59.551Z"
   },
   {
    "duration": 10,
    "start_time": "2023-06-24T14:45:59.726Z"
   },
   {
    "duration": 27,
    "start_time": "2023-06-24T14:45:59.738Z"
   },
   {
    "duration": 101,
    "start_time": "2023-06-24T14:45:59.766Z"
   },
   {
    "duration": 11,
    "start_time": "2023-06-24T14:45:59.869Z"
   },
   {
    "duration": 26,
    "start_time": "2023-06-24T14:45:59.881Z"
   },
   {
    "duration": 27,
    "start_time": "2023-06-24T14:45:59.909Z"
   },
   {
    "duration": 561,
    "start_time": "2023-06-24T14:45:59.937Z"
   },
   {
    "duration": 77,
    "start_time": "2023-06-24T14:46:00.504Z"
   },
   {
    "duration": 33,
    "start_time": "2023-06-24T14:46:00.583Z"
   },
   {
    "duration": 73,
    "start_time": "2023-06-24T14:46:00.619Z"
   },
   {
    "duration": 31,
    "start_time": "2023-06-24T14:46:00.695Z"
   },
   {
    "duration": 91,
    "start_time": "2023-06-24T14:46:00.727Z"
   },
   {
    "duration": 13,
    "start_time": "2023-06-24T14:46:00.819Z"
   },
   {
    "duration": 33,
    "start_time": "2023-06-24T14:46:00.833Z"
   },
   {
    "duration": 74,
    "start_time": "2023-06-24T14:46:00.868Z"
   },
   {
    "duration": 65,
    "start_time": "2023-06-24T14:46:00.945Z"
   },
   {
    "duration": 510,
    "start_time": "2023-06-24T14:46:01.013Z"
   },
   {
    "duration": 21,
    "start_time": "2023-06-24T14:46:01.525Z"
   },
   {
    "duration": 99,
    "start_time": "2023-06-24T14:46:01.548Z"
   },
   {
    "duration": 84,
    "start_time": "2023-06-24T14:46:01.648Z"
   },
   {
    "duration": 24,
    "start_time": "2023-06-24T14:46:01.733Z"
   },
   {
    "duration": 205,
    "start_time": "2023-06-24T14:46:01.759Z"
   },
   {
    "duration": 107,
    "start_time": "2023-06-24T14:46:01.966Z"
   },
   {
    "duration": 8,
    "start_time": "2023-06-24T14:52:23.627Z"
   },
   {
    "duration": 7,
    "start_time": "2023-06-24T14:56:25.116Z"
   },
   {
    "duration": 6,
    "start_time": "2023-06-24T15:04:01.307Z"
   },
   {
    "duration": 5,
    "start_time": "2023-06-24T15:04:08.121Z"
   },
   {
    "duration": 15,
    "start_time": "2023-06-24T15:21:50.391Z"
   },
   {
    "duration": 11,
    "start_time": "2023-06-24T15:23:00.424Z"
   },
   {
    "duration": 439,
    "start_time": "2023-06-24T15:26:52.297Z"
   },
   {
    "duration": 178,
    "start_time": "2023-06-24T15:26:52.738Z"
   },
   {
    "duration": 12,
    "start_time": "2023-06-24T15:26:52.918Z"
   },
   {
    "duration": 46,
    "start_time": "2023-06-24T15:26:52.932Z"
   },
   {
    "duration": 85,
    "start_time": "2023-06-24T15:26:52.982Z"
   },
   {
    "duration": 11,
    "start_time": "2023-06-24T15:26:53.069Z"
   },
   {
    "duration": 25,
    "start_time": "2023-06-24T15:26:53.083Z"
   },
   {
    "duration": 25,
    "start_time": "2023-06-24T15:26:53.110Z"
   },
   {
    "duration": 560,
    "start_time": "2023-06-24T15:26:53.138Z"
   },
   {
    "duration": 61,
    "start_time": "2023-06-24T15:26:53.702Z"
   },
   {
    "duration": 17,
    "start_time": "2023-06-24T15:26:53.765Z"
   },
   {
    "duration": 48,
    "start_time": "2023-06-24T15:26:53.784Z"
   },
   {
    "duration": 22,
    "start_time": "2023-06-24T15:26:53.834Z"
   },
   {
    "duration": 89,
    "start_time": "2023-06-24T15:26:53.859Z"
   },
   {
    "duration": 13,
    "start_time": "2023-06-24T15:26:53.950Z"
   },
   {
    "duration": 21,
    "start_time": "2023-06-24T15:26:53.965Z"
   },
   {
    "duration": 45,
    "start_time": "2023-06-24T15:26:53.988Z"
   },
   {
    "duration": 51,
    "start_time": "2023-06-24T15:26:54.035Z"
   },
   {
    "duration": 482,
    "start_time": "2023-06-24T15:26:54.088Z"
   },
   {
    "duration": 19,
    "start_time": "2023-06-24T15:26:54.572Z"
   },
   {
    "duration": 46,
    "start_time": "2023-06-24T15:26:54.593Z"
   },
   {
    "duration": 34,
    "start_time": "2023-06-24T15:26:54.641Z"
   },
   {
    "duration": 26,
    "start_time": "2023-06-24T15:26:54.677Z"
   },
   {
    "duration": 139,
    "start_time": "2023-06-24T15:26:54.705Z"
   },
   {
    "duration": 7,
    "start_time": "2023-06-24T15:26:54.845Z"
   },
   {
    "duration": 10,
    "start_time": "2023-06-24T15:26:54.853Z"
   },
   {
    "duration": 14,
    "start_time": "2023-06-24T15:26:54.865Z"
   },
   {
    "duration": 1104,
    "start_time": "2023-06-24T15:29:30.407Z"
   },
   {
    "duration": 183,
    "start_time": "2023-06-24T15:29:31.513Z"
   },
   {
    "duration": 11,
    "start_time": "2023-06-24T15:29:31.697Z"
   },
   {
    "duration": 48,
    "start_time": "2023-06-24T15:29:31.710Z"
   },
   {
    "duration": 88,
    "start_time": "2023-06-24T15:29:31.760Z"
   },
   {
    "duration": 11,
    "start_time": "2023-06-24T15:29:31.850Z"
   },
   {
    "duration": 31,
    "start_time": "2023-06-24T15:29:31.863Z"
   },
   {
    "duration": 52,
    "start_time": "2023-06-24T15:29:31.896Z"
   },
   {
    "duration": 356,
    "start_time": "2023-06-24T15:29:31.950Z"
   },
   {
    "duration": 61,
    "start_time": "2023-06-24T15:29:32.309Z"
   },
   {
    "duration": 31,
    "start_time": "2023-06-24T15:29:32.371Z"
   },
   {
    "duration": 33,
    "start_time": "2023-06-24T15:29:32.404Z"
   },
   {
    "duration": 19,
    "start_time": "2023-06-24T15:29:32.439Z"
   },
   {
    "duration": 87,
    "start_time": "2023-06-24T15:29:32.459Z"
   },
   {
    "duration": 11,
    "start_time": "2023-06-24T15:29:32.548Z"
   },
   {
    "duration": 32,
    "start_time": "2023-06-24T15:29:32.561Z"
   },
   {
    "duration": 37,
    "start_time": "2023-06-24T15:29:32.595Z"
   },
   {
    "duration": 53,
    "start_time": "2023-06-24T15:29:32.634Z"
   },
   {
    "duration": 6,
    "start_time": "2023-06-24T15:29:32.702Z"
   },
   {
    "duration": 35,
    "start_time": "2023-06-24T15:29:32.710Z"
   },
   {
    "duration": 62,
    "start_time": "2023-06-24T15:29:32.747Z"
   },
   {
    "duration": 35,
    "start_time": "2023-06-24T15:29:32.811Z"
   },
   {
    "duration": 5,
    "start_time": "2023-06-24T15:29:32.848Z"
   },
   {
    "duration": 154,
    "start_time": "2023-06-24T15:29:32.854Z"
   },
   {
    "duration": 6,
    "start_time": "2023-06-24T15:29:33.009Z"
   },
   {
    "duration": 20,
    "start_time": "2023-06-24T15:29:33.017Z"
   },
   {
    "duration": 12,
    "start_time": "2023-06-24T15:29:33.039Z"
   },
   {
    "duration": 1361,
    "start_time": "2023-06-24T19:38:26.879Z"
   },
   {
    "duration": 567,
    "start_time": "2023-06-24T19:38:28.243Z"
   },
   {
    "duration": 11,
    "start_time": "2023-06-24T19:38:28.812Z"
   },
   {
    "duration": 35,
    "start_time": "2023-06-24T19:38:28.825Z"
   },
   {
    "duration": 91,
    "start_time": "2023-06-24T19:38:28.862Z"
   },
   {
    "duration": 11,
    "start_time": "2023-06-24T19:38:28.955Z"
   },
   {
    "duration": 25,
    "start_time": "2023-06-24T19:38:28.968Z"
   },
   {
    "duration": 36,
    "start_time": "2023-06-24T19:38:28.995Z"
   },
   {
    "duration": 360,
    "start_time": "2023-06-24T19:38:29.033Z"
   },
   {
    "duration": 65,
    "start_time": "2023-06-24T19:38:29.396Z"
   },
   {
    "duration": 17,
    "start_time": "2023-06-24T19:38:29.463Z"
   },
   {
    "duration": 64,
    "start_time": "2023-06-24T19:38:29.482Z"
   },
   {
    "duration": 21,
    "start_time": "2023-06-24T19:38:29.548Z"
   },
   {
    "duration": 63,
    "start_time": "2023-06-24T19:38:29.571Z"
   },
   {
    "duration": 21,
    "start_time": "2023-06-24T19:38:29.635Z"
   },
   {
    "duration": 5,
    "start_time": "2023-06-24T19:38:29.658Z"
   },
   {
    "duration": 53,
    "start_time": "2023-06-24T19:38:29.664Z"
   },
   {
    "duration": 58,
    "start_time": "2023-06-24T19:38:29.719Z"
   },
   {
    "duration": 6,
    "start_time": "2023-06-24T19:38:29.779Z"
   },
   {
    "duration": 23,
    "start_time": "2023-06-24T19:38:29.787Z"
   },
   {
    "duration": 56,
    "start_time": "2023-06-24T19:38:29.812Z"
   },
   {
    "duration": 33,
    "start_time": "2023-06-24T19:38:29.870Z"
   },
   {
    "duration": 6,
    "start_time": "2023-06-24T19:38:29.905Z"
   },
   {
    "duration": 167,
    "start_time": "2023-06-24T19:38:29.913Z"
   },
   {
    "duration": 6,
    "start_time": "2023-06-24T19:38:30.082Z"
   },
   {
    "duration": 36,
    "start_time": "2023-06-24T19:38:30.089Z"
   },
   {
    "duration": 23,
    "start_time": "2023-06-24T19:38:30.127Z"
   },
   {
    "duration": 63,
    "start_time": "2023-06-25T06:56:19.189Z"
   },
   {
    "duration": 0,
    "start_time": "2023-06-25T06:56:19.253Z"
   },
   {
    "duration": 0,
    "start_time": "2023-06-25T06:56:19.255Z"
   },
   {
    "duration": 0,
    "start_time": "2023-06-25T06:56:19.256Z"
   },
   {
    "duration": 0,
    "start_time": "2023-06-25T06:56:19.257Z"
   },
   {
    "duration": 0,
    "start_time": "2023-06-25T06:56:19.258Z"
   },
   {
    "duration": 0,
    "start_time": "2023-06-25T06:56:19.258Z"
   },
   {
    "duration": 0,
    "start_time": "2023-06-25T06:56:19.259Z"
   },
   {
    "duration": 45,
    "start_time": "2023-06-25T06:56:19.261Z"
   },
   {
    "duration": 0,
    "start_time": "2023-06-25T06:56:19.308Z"
   },
   {
    "duration": 0,
    "start_time": "2023-06-25T06:56:19.309Z"
   },
   {
    "duration": 0,
    "start_time": "2023-06-25T06:56:19.310Z"
   },
   {
    "duration": 0,
    "start_time": "2023-06-25T06:56:19.311Z"
   },
   {
    "duration": 0,
    "start_time": "2023-06-25T06:56:19.312Z"
   },
   {
    "duration": 0,
    "start_time": "2023-06-25T06:56:19.313Z"
   },
   {
    "duration": 0,
    "start_time": "2023-06-25T06:56:19.314Z"
   },
   {
    "duration": 0,
    "start_time": "2023-06-25T06:56:19.314Z"
   },
   {
    "duration": 0,
    "start_time": "2023-06-25T06:56:19.315Z"
   },
   {
    "duration": 0,
    "start_time": "2023-06-25T06:56:19.316Z"
   },
   {
    "duration": 0,
    "start_time": "2023-06-25T06:56:19.317Z"
   },
   {
    "duration": 7,
    "start_time": "2023-06-25T06:56:19.319Z"
   },
   {
    "duration": 0,
    "start_time": "2023-06-25T06:56:19.328Z"
   },
   {
    "duration": 0,
    "start_time": "2023-06-25T06:56:19.329Z"
   },
   {
    "duration": 0,
    "start_time": "2023-06-25T06:56:19.330Z"
   },
   {
    "duration": 0,
    "start_time": "2023-06-25T06:56:19.331Z"
   },
   {
    "duration": 9,
    "start_time": "2023-06-25T06:56:19.376Z"
   },
   {
    "duration": 0,
    "start_time": "2023-06-25T06:56:19.387Z"
   },
   {
    "duration": 0,
    "start_time": "2023-06-25T06:56:19.388Z"
   },
   {
    "duration": 1212,
    "start_time": "2023-06-25T07:12:04.427Z"
   },
   {
    "duration": 505,
    "start_time": "2023-06-25T07:12:05.641Z"
   },
   {
    "duration": 9,
    "start_time": "2023-06-25T07:12:06.148Z"
   },
   {
    "duration": 33,
    "start_time": "2023-06-25T07:12:06.159Z"
   },
   {
    "duration": 86,
    "start_time": "2023-06-25T07:12:06.193Z"
   },
   {
    "duration": 16,
    "start_time": "2023-06-25T07:12:06.281Z"
   },
   {
    "duration": 47,
    "start_time": "2023-06-25T07:12:06.299Z"
   },
   {
    "duration": 39,
    "start_time": "2023-06-25T07:12:06.348Z"
   },
   {
    "duration": 280,
    "start_time": "2023-06-25T07:12:06.389Z"
   },
   {
    "duration": 57,
    "start_time": "2023-06-25T07:12:06.671Z"
   },
   {
    "duration": 17,
    "start_time": "2023-06-25T07:12:06.730Z"
   },
   {
    "duration": 55,
    "start_time": "2023-06-25T07:12:06.749Z"
   },
   {
    "duration": 22,
    "start_time": "2023-06-25T07:12:06.806Z"
   },
   {
    "duration": 66,
    "start_time": "2023-06-25T07:12:06.829Z"
   },
   {
    "duration": 14,
    "start_time": "2023-06-25T07:12:06.897Z"
   },
   {
    "duration": 14,
    "start_time": "2023-06-25T07:12:06.913Z"
   },
   {
    "duration": 54,
    "start_time": "2023-06-25T07:12:06.929Z"
   },
   {
    "duration": 55,
    "start_time": "2023-06-25T07:12:06.985Z"
   },
   {
    "duration": 6,
    "start_time": "2023-06-25T07:12:07.041Z"
   },
   {
    "duration": 36,
    "start_time": "2023-06-25T07:12:07.048Z"
   },
   {
    "duration": 68,
    "start_time": "2023-06-25T07:12:07.086Z"
   },
   {
    "duration": 29,
    "start_time": "2023-06-25T07:12:07.155Z"
   },
   {
    "duration": 4,
    "start_time": "2023-06-25T07:12:07.186Z"
   },
   {
    "duration": 136,
    "start_time": "2023-06-25T07:12:07.192Z"
   },
   {
    "duration": 6,
    "start_time": "2023-06-25T07:12:07.330Z"
   },
   {
    "duration": 12,
    "start_time": "2023-06-25T07:12:07.337Z"
   },
   {
    "duration": 36,
    "start_time": "2023-06-25T07:12:07.350Z"
   },
   {
    "duration": 152,
    "start_time": "2023-06-25T07:16:35.103Z"
   },
   {
    "duration": 218,
    "start_time": "2023-06-25T07:16:58.068Z"
   },
   {
    "duration": 232,
    "start_time": "2023-06-25T07:17:01.339Z"
   },
   {
    "duration": 5,
    "start_time": "2023-06-25T07:20:06.467Z"
   },
   {
    "duration": 1001,
    "start_time": "2023-06-25T07:20:41.521Z"
   },
   {
    "duration": 181,
    "start_time": "2023-06-25T07:20:42.524Z"
   },
   {
    "duration": 9,
    "start_time": "2023-06-25T07:20:42.707Z"
   },
   {
    "duration": 29,
    "start_time": "2023-06-25T07:20:42.718Z"
   },
   {
    "duration": 280,
    "start_time": "2023-06-25T07:20:42.749Z"
   },
   {
    "duration": 11,
    "start_time": "2023-06-25T07:20:43.031Z"
   },
   {
    "duration": 12,
    "start_time": "2023-06-25T07:20:43.043Z"
   },
   {
    "duration": 46,
    "start_time": "2023-06-25T07:20:43.056Z"
   },
   {
    "duration": 290,
    "start_time": "2023-06-25T07:20:43.104Z"
   },
   {
    "duration": 49,
    "start_time": "2023-06-25T07:20:43.397Z"
   },
   {
    "duration": 35,
    "start_time": "2023-06-25T07:20:43.447Z"
   },
   {
    "duration": 4,
    "start_time": "2023-06-25T07:20:43.489Z"
   },
   {
    "duration": 46,
    "start_time": "2023-06-25T07:20:43.494Z"
   },
   {
    "duration": 21,
    "start_time": "2023-06-25T07:20:43.541Z"
   },
   {
    "duration": 73,
    "start_time": "2023-06-25T07:20:43.564Z"
   },
   {
    "duration": 11,
    "start_time": "2023-06-25T07:20:43.638Z"
   },
   {
    "duration": 14,
    "start_time": "2023-06-25T07:20:43.651Z"
   },
   {
    "duration": 51,
    "start_time": "2023-06-25T07:20:43.666Z"
   },
   {
    "duration": 47,
    "start_time": "2023-06-25T07:20:43.718Z"
   },
   {
    "duration": 5,
    "start_time": "2023-06-25T07:20:43.766Z"
   },
   {
    "duration": 41,
    "start_time": "2023-06-25T07:20:43.773Z"
   },
   {
    "duration": 48,
    "start_time": "2023-06-25T07:20:43.816Z"
   },
   {
    "duration": 32,
    "start_time": "2023-06-25T07:20:43.866Z"
   },
   {
    "duration": 6,
    "start_time": "2023-06-25T07:20:43.899Z"
   },
   {
    "duration": 145,
    "start_time": "2023-06-25T07:20:43.907Z"
   },
   {
    "duration": 7,
    "start_time": "2023-06-25T07:20:44.053Z"
   },
   {
    "duration": 17,
    "start_time": "2023-06-25T07:20:44.075Z"
   },
   {
    "duration": 10,
    "start_time": "2023-06-25T07:20:44.094Z"
   },
   {
    "duration": 6,
    "start_time": "2023-06-25T07:45:04.158Z"
   },
   {
    "duration": 172,
    "start_time": "2023-06-25T07:53:30.336Z"
   },
   {
    "duration": 1079,
    "start_time": "2023-06-25T07:54:13.125Z"
   },
   {
    "duration": 177,
    "start_time": "2023-06-25T07:54:14.206Z"
   },
   {
    "duration": 10,
    "start_time": "2023-06-25T07:54:14.384Z"
   },
   {
    "duration": 71,
    "start_time": "2023-06-25T07:54:14.396Z"
   },
   {
    "duration": 266,
    "start_time": "2023-06-25T07:54:14.469Z"
   },
   {
    "duration": 11,
    "start_time": "2023-06-25T07:54:14.738Z"
   },
   {
    "duration": 53,
    "start_time": "2023-06-25T07:54:14.751Z"
   },
   {
    "duration": 51,
    "start_time": "2023-06-25T07:54:14.806Z"
   },
   {
    "duration": 294,
    "start_time": "2023-06-25T07:54:14.858Z"
   },
   {
    "duration": 57,
    "start_time": "2023-06-25T07:54:15.155Z"
   },
   {
    "duration": 25,
    "start_time": "2023-06-25T07:54:15.214Z"
   },
   {
    "duration": 28,
    "start_time": "2023-06-25T07:54:15.241Z"
   },
   {
    "duration": 48,
    "start_time": "2023-06-25T07:54:15.275Z"
   },
   {
    "duration": 23,
    "start_time": "2023-06-25T07:54:15.325Z"
   },
   {
    "duration": 68,
    "start_time": "2023-06-25T07:54:15.350Z"
   },
   {
    "duration": 11,
    "start_time": "2023-06-25T07:54:15.420Z"
   },
   {
    "duration": 19,
    "start_time": "2023-06-25T07:54:15.432Z"
   },
   {
    "duration": 51,
    "start_time": "2023-06-25T07:54:15.452Z"
   },
   {
    "duration": 48,
    "start_time": "2023-06-25T07:54:15.505Z"
   },
   {
    "duration": 103,
    "start_time": "2023-06-25T07:54:15.554Z"
   },
   {
    "duration": 0,
    "start_time": "2023-06-25T07:54:15.659Z"
   },
   {
    "duration": 0,
    "start_time": "2023-06-25T07:54:15.661Z"
   },
   {
    "duration": 0,
    "start_time": "2023-06-25T07:54:15.662Z"
   },
   {
    "duration": 0,
    "start_time": "2023-06-25T07:54:15.675Z"
   },
   {
    "duration": 0,
    "start_time": "2023-06-25T07:54:15.676Z"
   },
   {
    "duration": 0,
    "start_time": "2023-06-25T07:54:15.678Z"
   },
   {
    "duration": 7,
    "start_time": "2023-06-25T07:55:04.241Z"
   },
   {
    "duration": 105,
    "start_time": "2023-06-25T07:55:18.203Z"
   },
   {
    "duration": 127,
    "start_time": "2023-06-25T07:58:38.731Z"
   },
   {
    "duration": 6,
    "start_time": "2023-06-25T08:05:55.756Z"
   },
   {
    "duration": 124,
    "start_time": "2023-06-25T08:05:59.379Z"
   },
   {
    "duration": 7,
    "start_time": "2023-06-25T08:06:43.649Z"
   },
   {
    "duration": 42,
    "start_time": "2023-06-25T08:08:15.117Z"
   },
   {
    "duration": 1340,
    "start_time": "2023-06-25T08:08:30.493Z"
   },
   {
    "duration": 179,
    "start_time": "2023-06-25T08:08:31.835Z"
   },
   {
    "duration": 8,
    "start_time": "2023-06-25T08:08:32.016Z"
   },
   {
    "duration": 36,
    "start_time": "2023-06-25T08:08:32.026Z"
   },
   {
    "duration": 296,
    "start_time": "2023-06-25T08:08:32.064Z"
   },
   {
    "duration": 16,
    "start_time": "2023-06-25T08:08:32.362Z"
   },
   {
    "duration": 11,
    "start_time": "2023-06-25T08:08:32.379Z"
   },
   {
    "duration": 32,
    "start_time": "2023-06-25T08:08:32.391Z"
   },
   {
    "duration": 297,
    "start_time": "2023-06-25T08:08:32.424Z"
   },
   {
    "duration": 55,
    "start_time": "2023-06-25T08:08:32.723Z"
   },
   {
    "duration": 16,
    "start_time": "2023-06-25T08:08:32.780Z"
   },
   {
    "duration": 12,
    "start_time": "2023-06-25T08:08:32.797Z"
   },
   {
    "duration": 41,
    "start_time": "2023-06-25T08:08:32.810Z"
   },
   {
    "duration": 28,
    "start_time": "2023-06-25T08:08:32.855Z"
   },
   {
    "duration": 68,
    "start_time": "2023-06-25T08:08:32.885Z"
   },
   {
    "duration": 12,
    "start_time": "2023-06-25T08:08:32.954Z"
   },
   {
    "duration": 4,
    "start_time": "2023-06-25T08:08:32.975Z"
   },
   {
    "duration": 55,
    "start_time": "2023-06-25T08:08:32.980Z"
   },
   {
    "duration": 49,
    "start_time": "2023-06-25T08:08:33.037Z"
   },
   {
    "duration": 6,
    "start_time": "2023-06-25T08:08:33.087Z"
   },
   {
    "duration": 97,
    "start_time": "2023-06-25T08:08:33.095Z"
   },
   {
    "duration": 158,
    "start_time": "2023-06-25T08:08:33.194Z"
   },
   {
    "duration": 5,
    "start_time": "2023-06-25T08:08:33.354Z"
   },
   {
    "duration": 144,
    "start_time": "2023-06-25T08:08:33.361Z"
   },
   {
    "duration": 0,
    "start_time": "2023-06-25T08:08:33.506Z"
   },
   {
    "duration": 0,
    "start_time": "2023-06-25T08:08:33.508Z"
   },
   {
    "duration": 0,
    "start_time": "2023-06-25T08:08:33.509Z"
   },
   {
    "duration": 79,
    "start_time": "2023-06-25T08:11:53.643Z"
   },
   {
    "duration": 80,
    "start_time": "2023-06-25T08:12:15.596Z"
   },
   {
    "duration": 135,
    "start_time": "2023-06-25T08:15:13.327Z"
   },
   {
    "duration": 1203,
    "start_time": "2023-06-25T08:15:32.799Z"
   },
   {
    "duration": 176,
    "start_time": "2023-06-25T08:15:34.004Z"
   },
   {
    "duration": 8,
    "start_time": "2023-06-25T08:15:34.182Z"
   },
   {
    "duration": 29,
    "start_time": "2023-06-25T08:15:34.192Z"
   },
   {
    "duration": 281,
    "start_time": "2023-06-25T08:15:34.223Z"
   },
   {
    "duration": 13,
    "start_time": "2023-06-25T08:15:34.505Z"
   },
   {
    "duration": 14,
    "start_time": "2023-06-25T08:15:34.519Z"
   },
   {
    "duration": 40,
    "start_time": "2023-06-25T08:15:34.535Z"
   },
   {
    "duration": 304,
    "start_time": "2023-06-25T08:15:34.577Z"
   },
   {
    "duration": 50,
    "start_time": "2023-06-25T08:15:34.885Z"
   },
   {
    "duration": 41,
    "start_time": "2023-06-25T08:15:34.937Z"
   },
   {
    "duration": 4,
    "start_time": "2023-06-25T08:15:34.980Z"
   },
   {
    "duration": 33,
    "start_time": "2023-06-25T08:15:34.985Z"
   },
   {
    "duration": 23,
    "start_time": "2023-06-25T08:15:35.021Z"
   },
   {
    "duration": 74,
    "start_time": "2023-06-25T08:15:35.046Z"
   },
   {
    "duration": 12,
    "start_time": "2023-06-25T08:15:35.122Z"
   },
   {
    "duration": 5,
    "start_time": "2023-06-25T08:15:35.136Z"
   },
   {
    "duration": 48,
    "start_time": "2023-06-25T08:15:35.143Z"
   },
   {
    "duration": 55,
    "start_time": "2023-06-25T08:15:35.192Z"
   },
   {
    "duration": 5,
    "start_time": "2023-06-25T08:15:35.249Z"
   },
   {
    "duration": 86,
    "start_time": "2023-06-25T08:15:35.275Z"
   },
   {
    "duration": 157,
    "start_time": "2023-06-25T08:15:35.363Z"
   },
   {
    "duration": 5,
    "start_time": "2023-06-25T08:15:35.522Z"
   },
   {
    "duration": 147,
    "start_time": "2023-06-25T08:15:35.529Z"
   },
   {
    "duration": 0,
    "start_time": "2023-06-25T08:15:35.678Z"
   },
   {
    "duration": 0,
    "start_time": "2023-06-25T08:15:35.680Z"
   },
   {
    "duration": 0,
    "start_time": "2023-06-25T08:15:35.681Z"
   },
   {
    "duration": 42,
    "start_time": "2023-06-25T08:17:17.344Z"
   },
   {
    "duration": 83,
    "start_time": "2023-06-25T08:20:34.383Z"
   },
   {
    "duration": 82,
    "start_time": "2023-06-25T08:22:54.560Z"
   },
   {
    "duration": 130,
    "start_time": "2023-06-25T08:23:49.375Z"
   },
   {
    "duration": 6,
    "start_time": "2023-06-25T08:24:00.832Z"
   },
   {
    "duration": 1071,
    "start_time": "2023-06-25T08:24:05.713Z"
   },
   {
    "duration": 183,
    "start_time": "2023-06-25T08:24:06.785Z"
   },
   {
    "duration": 15,
    "start_time": "2023-06-25T08:24:06.969Z"
   },
   {
    "duration": 40,
    "start_time": "2023-06-25T08:24:06.986Z"
   },
   {
    "duration": 280,
    "start_time": "2023-06-25T08:24:07.028Z"
   },
   {
    "duration": 15,
    "start_time": "2023-06-25T08:24:07.309Z"
   },
   {
    "duration": 17,
    "start_time": "2023-06-25T08:24:07.325Z"
   },
   {
    "duration": 45,
    "start_time": "2023-06-25T08:24:07.344Z"
   },
   {
    "duration": 366,
    "start_time": "2023-06-25T08:24:07.390Z"
   },
   {
    "duration": 51,
    "start_time": "2023-06-25T08:24:07.758Z"
   },
   {
    "duration": 14,
    "start_time": "2023-06-25T08:24:07.811Z"
   },
   {
    "duration": 9,
    "start_time": "2023-06-25T08:24:07.827Z"
   },
   {
    "duration": 39,
    "start_time": "2023-06-25T08:24:07.837Z"
   },
   {
    "duration": 21,
    "start_time": "2023-06-25T08:24:07.877Z"
   },
   {
    "duration": 69,
    "start_time": "2023-06-25T08:24:07.899Z"
   },
   {
    "duration": 11,
    "start_time": "2023-06-25T08:24:07.969Z"
   },
   {
    "duration": 22,
    "start_time": "2023-06-25T08:24:07.981Z"
   },
   {
    "duration": 52,
    "start_time": "2023-06-25T08:24:08.004Z"
   },
   {
    "duration": 48,
    "start_time": "2023-06-25T08:24:08.058Z"
   },
   {
    "duration": 5,
    "start_time": "2023-06-25T08:24:08.108Z"
   },
   {
    "duration": 88,
    "start_time": "2023-06-25T08:24:08.115Z"
   },
   {
    "duration": 128,
    "start_time": "2023-06-25T08:24:08.204Z"
   },
   {
    "duration": 0,
    "start_time": "2023-06-25T08:24:08.334Z"
   },
   {
    "duration": 0,
    "start_time": "2023-06-25T08:24:08.335Z"
   },
   {
    "duration": 0,
    "start_time": "2023-06-25T08:24:08.336Z"
   },
   {
    "duration": 0,
    "start_time": "2023-06-25T08:24:08.337Z"
   },
   {
    "duration": 0,
    "start_time": "2023-06-25T08:24:08.339Z"
   },
   {
    "duration": 232,
    "start_time": "2023-06-25T08:25:12.672Z"
   },
   {
    "duration": 137,
    "start_time": "2023-06-25T08:26:33.404Z"
   },
   {
    "duration": 132,
    "start_time": "2023-06-25T08:39:49.516Z"
   },
   {
    "duration": 1025,
    "start_time": "2023-06-25T08:39:59.104Z"
   },
   {
    "duration": 190,
    "start_time": "2023-06-25T08:40:00.132Z"
   },
   {
    "duration": 9,
    "start_time": "2023-06-25T08:40:00.324Z"
   },
   {
    "duration": 138,
    "start_time": "2023-06-25T08:40:00.335Z"
   },
   {
    "duration": 258,
    "start_time": "2023-06-25T08:40:00.475Z"
   },
   {
    "duration": 12,
    "start_time": "2023-06-25T08:40:00.735Z"
   },
   {
    "duration": 48,
    "start_time": "2023-06-25T08:40:00.748Z"
   },
   {
    "duration": 72,
    "start_time": "2023-06-25T08:40:00.797Z"
   },
   {
    "duration": 444,
    "start_time": "2023-06-25T08:40:00.871Z"
   },
   {
    "duration": 59,
    "start_time": "2023-06-25T08:40:01.317Z"
   },
   {
    "duration": 44,
    "start_time": "2023-06-25T08:40:01.378Z"
   },
   {
    "duration": 109,
    "start_time": "2023-06-25T08:40:01.424Z"
   },
   {
    "duration": 215,
    "start_time": "2023-06-25T08:40:01.535Z"
   },
   {
    "duration": 46,
    "start_time": "2023-06-25T08:40:01.753Z"
   },
   {
    "duration": 91,
    "start_time": "2023-06-25T08:40:01.801Z"
   },
   {
    "duration": 29,
    "start_time": "2023-06-25T08:40:01.894Z"
   },
   {
    "duration": 34,
    "start_time": "2023-06-25T08:40:01.924Z"
   },
   {
    "duration": 115,
    "start_time": "2023-06-25T08:40:01.959Z"
   },
   {
    "duration": 57,
    "start_time": "2023-06-25T08:40:02.075Z"
   },
   {
    "duration": 5,
    "start_time": "2023-06-25T08:40:02.133Z"
   },
   {
    "duration": 112,
    "start_time": "2023-06-25T08:40:02.140Z"
   },
   {
    "duration": 136,
    "start_time": "2023-06-25T08:40:02.253Z"
   },
   {
    "duration": 5,
    "start_time": "2023-06-25T08:40:02.391Z"
   },
   {
    "duration": 147,
    "start_time": "2023-06-25T08:40:02.398Z"
   },
   {
    "duration": 0,
    "start_time": "2023-06-25T08:40:02.547Z"
   },
   {
    "duration": 0,
    "start_time": "2023-06-25T08:40:02.548Z"
   },
   {
    "duration": 0,
    "start_time": "2023-06-25T08:40:02.549Z"
   },
   {
    "duration": 5,
    "start_time": "2023-06-25T08:41:44.011Z"
   },
   {
    "duration": 1072,
    "start_time": "2023-06-25T08:43:42.053Z"
   },
   {
    "duration": 176,
    "start_time": "2023-06-25T08:43:43.127Z"
   },
   {
    "duration": 9,
    "start_time": "2023-06-25T08:43:43.304Z"
   },
   {
    "duration": 45,
    "start_time": "2023-06-25T08:43:43.315Z"
   },
   {
    "duration": 271,
    "start_time": "2023-06-25T08:43:43.362Z"
   },
   {
    "duration": 12,
    "start_time": "2023-06-25T08:43:43.634Z"
   },
   {
    "duration": 10,
    "start_time": "2023-06-25T08:43:43.648Z"
   },
   {
    "duration": 41,
    "start_time": "2023-06-25T08:43:43.659Z"
   },
   {
    "duration": 305,
    "start_time": "2023-06-25T08:43:43.701Z"
   },
   {
    "duration": 49,
    "start_time": "2023-06-25T08:43:44.008Z"
   },
   {
    "duration": 23,
    "start_time": "2023-06-25T08:43:44.059Z"
   },
   {
    "duration": 3,
    "start_time": "2023-06-25T08:43:44.084Z"
   },
   {
    "duration": 31,
    "start_time": "2023-06-25T08:43:44.089Z"
   },
   {
    "duration": 21,
    "start_time": "2023-06-25T08:43:44.121Z"
   },
   {
    "duration": 77,
    "start_time": "2023-06-25T08:43:44.143Z"
   },
   {
    "duration": 11,
    "start_time": "2023-06-25T08:43:44.221Z"
   },
   {
    "duration": 18,
    "start_time": "2023-06-25T08:43:44.234Z"
   },
   {
    "duration": 43,
    "start_time": "2023-06-25T08:43:44.253Z"
   },
   {
    "duration": 47,
    "start_time": "2023-06-25T08:43:44.298Z"
   },
   {
    "duration": 5,
    "start_time": "2023-06-25T08:43:44.347Z"
   },
   {
    "duration": 96,
    "start_time": "2023-06-25T08:43:44.354Z"
   },
   {
    "duration": 141,
    "start_time": "2023-06-25T08:43:44.451Z"
   },
   {
    "duration": 5,
    "start_time": "2023-06-25T08:43:44.593Z"
   },
   {
    "duration": 143,
    "start_time": "2023-06-25T08:43:44.600Z"
   },
   {
    "duration": 0,
    "start_time": "2023-06-25T08:43:44.744Z"
   },
   {
    "duration": 0,
    "start_time": "2023-06-25T08:43:44.745Z"
   },
   {
    "duration": 0,
    "start_time": "2023-06-25T08:43:44.747Z"
   },
   {
    "duration": 131,
    "start_time": "2023-06-25T08:46:23.198Z"
   },
   {
    "duration": 1043,
    "start_time": "2023-06-25T08:46:33.471Z"
   },
   {
    "duration": 188,
    "start_time": "2023-06-25T08:46:34.516Z"
   },
   {
    "duration": 10,
    "start_time": "2023-06-25T08:46:34.706Z"
   },
   {
    "duration": 37,
    "start_time": "2023-06-25T08:46:34.718Z"
   },
   {
    "duration": 274,
    "start_time": "2023-06-25T08:46:34.756Z"
   },
   {
    "duration": 12,
    "start_time": "2023-06-25T08:46:35.032Z"
   },
   {
    "duration": 215,
    "start_time": "2023-06-25T08:46:35.045Z"
   },
   {
    "duration": 42,
    "start_time": "2023-06-25T08:46:35.262Z"
   },
   {
    "duration": 299,
    "start_time": "2023-06-25T08:46:35.305Z"
   },
   {
    "duration": 45,
    "start_time": "2023-06-25T08:46:35.607Z"
   },
   {
    "duration": 27,
    "start_time": "2023-06-25T08:46:35.653Z"
   },
   {
    "duration": 3,
    "start_time": "2023-06-25T08:46:35.681Z"
   },
   {
    "duration": 32,
    "start_time": "2023-06-25T08:46:35.686Z"
   },
   {
    "duration": 20,
    "start_time": "2023-06-25T08:46:35.720Z"
   },
   {
    "duration": 67,
    "start_time": "2023-06-25T08:46:35.741Z"
   },
   {
    "duration": 11,
    "start_time": "2023-06-25T08:46:35.810Z"
   },
   {
    "duration": 6,
    "start_time": "2023-06-25T08:46:35.822Z"
   },
   {
    "duration": 46,
    "start_time": "2023-06-25T08:46:35.830Z"
   },
   {
    "duration": 45,
    "start_time": "2023-06-25T08:46:35.877Z"
   },
   {
    "duration": 5,
    "start_time": "2023-06-25T08:46:35.924Z"
   },
   {
    "duration": 94,
    "start_time": "2023-06-25T08:46:35.931Z"
   },
   {
    "duration": 138,
    "start_time": "2023-06-25T08:46:36.026Z"
   },
   {
    "duration": 13,
    "start_time": "2023-06-25T08:46:36.166Z"
   },
   {
    "duration": 156,
    "start_time": "2023-06-25T08:46:36.180Z"
   },
   {
    "duration": 6,
    "start_time": "2023-06-25T08:46:36.338Z"
   },
   {
    "duration": 35,
    "start_time": "2023-06-25T08:46:36.346Z"
   },
   {
    "duration": 23,
    "start_time": "2023-06-25T08:46:36.383Z"
   },
   {
    "duration": 120,
    "start_time": "2023-06-25T08:46:46.788Z"
   },
   {
    "duration": 120,
    "start_time": "2023-06-25T08:48:04.757Z"
   },
   {
    "duration": 1198,
    "start_time": "2023-06-25T19:43:38.025Z"
   },
   {
    "duration": 483,
    "start_time": "2023-06-25T19:43:39.225Z"
   },
   {
    "duration": 8,
    "start_time": "2023-06-25T19:43:39.710Z"
   },
   {
    "duration": 25,
    "start_time": "2023-06-25T19:43:39.719Z"
   },
   {
    "duration": 241,
    "start_time": "2023-06-25T19:43:39.746Z"
   },
   {
    "duration": 16,
    "start_time": "2023-06-25T19:43:39.989Z"
   },
   {
    "duration": 11,
    "start_time": "2023-06-25T19:43:40.006Z"
   },
   {
    "duration": 30,
    "start_time": "2023-06-25T19:43:40.019Z"
   },
   {
    "duration": 271,
    "start_time": "2023-06-25T19:43:40.050Z"
   },
   {
    "duration": 38,
    "start_time": "2023-06-25T19:43:40.322Z"
   },
   {
    "duration": 12,
    "start_time": "2023-06-25T19:43:40.362Z"
   },
   {
    "duration": 4,
    "start_time": "2023-06-25T19:43:40.376Z"
   },
   {
    "duration": 38,
    "start_time": "2023-06-25T19:43:40.381Z"
   },
   {
    "duration": 18,
    "start_time": "2023-06-25T19:43:40.422Z"
   },
   {
    "duration": 65,
    "start_time": "2023-06-25T19:43:40.442Z"
   },
   {
    "duration": 11,
    "start_time": "2023-06-25T19:43:40.509Z"
   },
   {
    "duration": 10,
    "start_time": "2023-06-25T19:43:40.521Z"
   },
   {
    "duration": 31,
    "start_time": "2023-06-25T19:43:40.533Z"
   },
   {
    "duration": 49,
    "start_time": "2023-06-25T19:43:40.565Z"
   },
   {
    "duration": 5,
    "start_time": "2023-06-25T19:43:40.615Z"
   },
   {
    "duration": 91,
    "start_time": "2023-06-25T19:43:40.622Z"
   },
   {
    "duration": 131,
    "start_time": "2023-06-25T19:43:40.714Z"
   },
   {
    "duration": 6,
    "start_time": "2023-06-25T19:43:40.847Z"
   },
   {
    "duration": 142,
    "start_time": "2023-06-25T19:43:40.854Z"
   },
   {
    "duration": 0,
    "start_time": "2023-06-25T19:43:41.000Z"
   },
   {
    "duration": 0,
    "start_time": "2023-06-25T19:43:41.001Z"
   },
   {
    "duration": 0,
    "start_time": "2023-06-25T19:43:41.002Z"
   },
   {
    "duration": 67,
    "start_time": "2023-06-25T20:11:25.305Z"
   },
   {
    "duration": 1619,
    "start_time": "2023-06-25T20:12:44.674Z"
   },
   {
    "duration": 718,
    "start_time": "2023-06-25T20:12:46.296Z"
   },
   {
    "duration": 11,
    "start_time": "2023-06-25T20:12:47.016Z"
   },
   {
    "duration": 47,
    "start_time": "2023-06-25T20:12:47.029Z"
   },
   {
    "duration": 358,
    "start_time": "2023-06-25T20:12:47.079Z"
   },
   {
    "duration": 19,
    "start_time": "2023-06-25T20:12:47.439Z"
   },
   {
    "duration": 23,
    "start_time": "2023-06-25T20:12:47.460Z"
   },
   {
    "duration": 31,
    "start_time": "2023-06-25T20:12:47.485Z"
   },
   {
    "duration": 512,
    "start_time": "2023-06-25T20:12:47.518Z"
   },
   {
    "duration": 64,
    "start_time": "2023-06-25T20:12:48.032Z"
   },
   {
    "duration": 92,
    "start_time": "2023-06-25T20:12:48.097Z"
   },
   {
    "duration": 5,
    "start_time": "2023-06-25T20:12:48.191Z"
   },
   {
    "duration": 37,
    "start_time": "2023-06-25T20:12:48.197Z"
   },
   {
    "duration": 36,
    "start_time": "2023-06-25T20:12:48.236Z"
   },
   {
    "duration": 75,
    "start_time": "2023-06-25T20:12:48.274Z"
   },
   {
    "duration": 20,
    "start_time": "2023-06-25T20:12:48.351Z"
   },
   {
    "duration": 19,
    "start_time": "2023-06-25T20:12:48.374Z"
   },
   {
    "duration": 70,
    "start_time": "2023-06-25T20:12:48.395Z"
   },
   {
    "duration": 72,
    "start_time": "2023-06-25T20:12:48.471Z"
   },
   {
    "duration": 14,
    "start_time": "2023-06-25T20:12:48.545Z"
   },
   {
    "duration": 148,
    "start_time": "2023-06-25T20:12:48.564Z"
   },
   {
    "duration": 183,
    "start_time": "2023-06-25T20:12:48.715Z"
   },
   {
    "duration": 6,
    "start_time": "2023-06-25T20:12:48.900Z"
   },
   {
    "duration": 160,
    "start_time": "2023-06-25T20:12:48.908Z"
   },
   {
    "duration": 0,
    "start_time": "2023-06-25T20:12:49.071Z"
   },
   {
    "duration": 0,
    "start_time": "2023-06-25T20:12:49.072Z"
   },
   {
    "duration": 0,
    "start_time": "2023-06-25T20:12:49.074Z"
   },
   {
    "duration": 139,
    "start_time": "2023-06-25T20:13:08.237Z"
   },
   {
    "duration": 199,
    "start_time": "2023-06-25T20:13:38.358Z"
   },
   {
    "duration": 114,
    "start_time": "2023-06-25T20:14:26.246Z"
   },
   {
    "duration": 147,
    "start_time": "2023-06-25T20:15:22.036Z"
   },
   {
    "duration": 154,
    "start_time": "2023-06-25T20:37:29.304Z"
   },
   {
    "duration": 43,
    "start_time": "2023-06-25T20:56:21.806Z"
   },
   {
    "duration": 139,
    "start_time": "2023-06-25T20:56:52.310Z"
   },
   {
    "duration": 6,
    "start_time": "2023-06-25T20:57:03.396Z"
   },
   {
    "duration": 4,
    "start_time": "2023-06-25T20:57:33.845Z"
   },
   {
    "duration": 4,
    "start_time": "2023-06-25T20:57:37.906Z"
   },
   {
    "duration": 144,
    "start_time": "2023-06-25T20:59:31.598Z"
   },
   {
    "duration": 1454,
    "start_time": "2023-06-25T21:02:44.014Z"
   },
   {
    "duration": 194,
    "start_time": "2023-06-25T21:02:45.470Z"
   },
   {
    "duration": 11,
    "start_time": "2023-06-25T21:02:45.666Z"
   },
   {
    "duration": 37,
    "start_time": "2023-06-25T21:02:45.679Z"
   },
   {
    "duration": 339,
    "start_time": "2023-06-25T21:02:45.719Z"
   },
   {
    "duration": 11,
    "start_time": "2023-06-25T21:02:46.060Z"
   },
   {
    "duration": 16,
    "start_time": "2023-06-25T21:02:46.073Z"
   },
   {
    "duration": 39,
    "start_time": "2023-06-25T21:02:46.091Z"
   },
   {
    "duration": 338,
    "start_time": "2023-06-25T21:02:46.132Z"
   },
   {
    "duration": 48,
    "start_time": "2023-06-25T21:02:46.472Z"
   },
   {
    "duration": 15,
    "start_time": "2023-06-25T21:02:46.522Z"
   },
   {
    "duration": 17,
    "start_time": "2023-06-25T21:02:46.538Z"
   },
   {
    "duration": 37,
    "start_time": "2023-06-25T21:02:46.556Z"
   },
   {
    "duration": 21,
    "start_time": "2023-06-25T21:02:46.596Z"
   },
   {
    "duration": 78,
    "start_time": "2023-06-25T21:02:46.618Z"
   },
   {
    "duration": 14,
    "start_time": "2023-06-25T21:02:46.698Z"
   },
   {
    "duration": 12,
    "start_time": "2023-06-25T21:02:46.714Z"
   },
   {
    "duration": 47,
    "start_time": "2023-06-25T21:02:46.727Z"
   },
   {
    "duration": 55,
    "start_time": "2023-06-25T21:02:46.776Z"
   },
   {
    "duration": 19,
    "start_time": "2023-06-25T21:02:46.833Z"
   },
   {
    "duration": 104,
    "start_time": "2023-06-25T21:02:46.855Z"
   },
   {
    "duration": 163,
    "start_time": "2023-06-25T21:02:46.961Z"
   },
   {
    "duration": 6,
    "start_time": "2023-06-25T21:02:47.126Z"
   },
   {
    "duration": 142,
    "start_time": "2023-06-25T21:02:47.151Z"
   },
   {
    "duration": 0,
    "start_time": "2023-06-25T21:02:47.294Z"
   },
   {
    "duration": 0,
    "start_time": "2023-06-25T21:02:47.296Z"
   },
   {
    "duration": 1139,
    "start_time": "2023-06-25T21:04:28.619Z"
   },
   {
    "duration": 200,
    "start_time": "2023-06-25T21:04:29.765Z"
   },
   {
    "duration": 12,
    "start_time": "2023-06-25T21:04:29.967Z"
   },
   {
    "duration": 32,
    "start_time": "2023-06-25T21:04:29.981Z"
   },
   {
    "duration": 349,
    "start_time": "2023-06-25T21:04:30.015Z"
   },
   {
    "duration": 14,
    "start_time": "2023-06-25T21:04:30.366Z"
   },
   {
    "duration": 75,
    "start_time": "2023-06-25T21:04:30.382Z"
   },
   {
    "duration": 81,
    "start_time": "2023-06-25T21:04:30.460Z"
   },
   {
    "duration": 418,
    "start_time": "2023-06-25T21:04:30.543Z"
   },
   {
    "duration": 52,
    "start_time": "2023-06-25T21:04:30.964Z"
   },
   {
    "duration": 44,
    "start_time": "2023-06-25T21:04:31.018Z"
   },
   {
    "duration": 77,
    "start_time": "2023-06-25T21:04:31.065Z"
   },
   {
    "duration": 95,
    "start_time": "2023-06-25T21:04:31.144Z"
   },
   {
    "duration": 27,
    "start_time": "2023-06-25T21:04:31.242Z"
   },
   {
    "duration": 95,
    "start_time": "2023-06-25T21:04:31.271Z"
   },
   {
    "duration": 43,
    "start_time": "2023-06-25T21:04:31.368Z"
   },
   {
    "duration": 36,
    "start_time": "2023-06-25T21:04:31.413Z"
   },
   {
    "duration": 99,
    "start_time": "2023-06-25T21:04:31.450Z"
   },
   {
    "duration": 91,
    "start_time": "2023-06-25T21:04:31.552Z"
   },
   {
    "duration": 6,
    "start_time": "2023-06-25T21:04:31.645Z"
   },
   {
    "duration": 224,
    "start_time": "2023-06-25T21:04:31.653Z"
   },
   {
    "duration": 160,
    "start_time": "2023-06-25T21:04:31.879Z"
   },
   {
    "duration": 18,
    "start_time": "2023-06-25T21:04:32.041Z"
   },
   {
    "duration": 189,
    "start_time": "2023-06-25T21:04:32.064Z"
   },
   {
    "duration": 0,
    "start_time": "2023-06-25T21:04:32.257Z"
   },
   {
    "duration": 0,
    "start_time": "2023-06-25T21:04:32.259Z"
   },
   {
    "duration": 85,
    "start_time": "2023-06-25T22:07:45.790Z"
   },
   {
    "duration": 238,
    "start_time": "2023-06-25T22:08:20.356Z"
   },
   {
    "duration": 89,
    "start_time": "2023-06-25T22:09:01.502Z"
   },
   {
    "duration": 144,
    "start_time": "2023-06-25T22:09:14.341Z"
   },
   {
    "duration": 144,
    "start_time": "2023-06-25T22:12:16.242Z"
   },
   {
    "duration": 5,
    "start_time": "2023-06-25T22:15:54.111Z"
   },
   {
    "duration": 6,
    "start_time": "2023-06-25T22:16:02.793Z"
   },
   {
    "duration": 5,
    "start_time": "2023-06-25T22:16:10.950Z"
   },
   {
    "duration": 1193,
    "start_time": "2023-06-25T22:16:18.046Z"
   },
   {
    "duration": 200,
    "start_time": "2023-06-25T22:16:19.241Z"
   },
   {
    "duration": 13,
    "start_time": "2023-06-25T22:16:19.443Z"
   },
   {
    "duration": 31,
    "start_time": "2023-06-25T22:16:19.458Z"
   },
   {
    "duration": 321,
    "start_time": "2023-06-25T22:16:19.491Z"
   },
   {
    "duration": 11,
    "start_time": "2023-06-25T22:16:19.814Z"
   },
   {
    "duration": 11,
    "start_time": "2023-06-25T22:16:19.827Z"
   },
   {
    "duration": 26,
    "start_time": "2023-06-25T22:16:19.852Z"
   },
   {
    "duration": 342,
    "start_time": "2023-06-25T22:16:19.880Z"
   },
   {
    "duration": 55,
    "start_time": "2023-06-25T22:16:20.224Z"
   },
   {
    "duration": 16,
    "start_time": "2023-06-25T22:16:20.281Z"
   },
   {
    "duration": 29,
    "start_time": "2023-06-25T22:16:20.298Z"
   },
   {
    "duration": 175,
    "start_time": "2023-06-25T22:16:20.329Z"
   },
   {
    "duration": 22,
    "start_time": "2023-06-25T22:16:20.507Z"
   },
   {
    "duration": 58,
    "start_time": "2023-06-25T22:16:20.531Z"
   },
   {
    "duration": 13,
    "start_time": "2023-06-25T22:16:20.591Z"
   },
   {
    "duration": 5,
    "start_time": "2023-06-25T22:16:20.606Z"
   },
   {
    "duration": 51,
    "start_time": "2023-06-25T22:16:20.614Z"
   },
   {
    "duration": 52,
    "start_time": "2023-06-25T22:16:20.667Z"
   },
   {
    "duration": 5,
    "start_time": "2023-06-25T22:16:20.721Z"
   },
   {
    "duration": 112,
    "start_time": "2023-06-25T22:16:20.727Z"
   },
   {
    "duration": 155,
    "start_time": "2023-06-25T22:16:20.851Z"
   },
   {
    "duration": 5,
    "start_time": "2023-06-25T22:16:21.008Z"
   },
   {
    "duration": 15,
    "start_time": "2023-06-25T22:16:21.014Z"
   },
   {
    "duration": 5,
    "start_time": "2023-06-25T22:16:43.014Z"
   },
   {
    "duration": 440,
    "start_time": "2023-06-25T22:17:06.933Z"
   },
   {
    "duration": 1150,
    "start_time": "2023-06-25T22:18:17.902Z"
   },
   {
    "duration": 187,
    "start_time": "2023-06-25T22:18:19.054Z"
   },
   {
    "duration": 18,
    "start_time": "2023-06-25T22:18:19.242Z"
   },
   {
    "duration": 37,
    "start_time": "2023-06-25T22:18:19.262Z"
   },
   {
    "duration": 330,
    "start_time": "2023-06-25T22:18:19.301Z"
   },
   {
    "duration": 11,
    "start_time": "2023-06-25T22:18:19.633Z"
   },
   {
    "duration": 8,
    "start_time": "2023-06-25T22:18:19.653Z"
   },
   {
    "duration": 38,
    "start_time": "2023-06-25T22:18:19.664Z"
   },
   {
    "duration": 345,
    "start_time": "2023-06-25T22:18:19.704Z"
   },
   {
    "duration": 53,
    "start_time": "2023-06-25T22:18:20.053Z"
   },
   {
    "duration": 17,
    "start_time": "2023-06-25T22:18:20.108Z"
   },
   {
    "duration": 38,
    "start_time": "2023-06-25T22:18:20.127Z"
   },
   {
    "duration": 63,
    "start_time": "2023-06-25T22:18:20.167Z"
   },
   {
    "duration": 20,
    "start_time": "2023-06-25T22:18:20.233Z"
   },
   {
    "duration": 68,
    "start_time": "2023-06-25T22:18:20.255Z"
   },
   {
    "duration": 14,
    "start_time": "2023-06-25T22:18:20.324Z"
   },
   {
    "duration": 19,
    "start_time": "2023-06-25T22:18:20.339Z"
   },
   {
    "duration": 38,
    "start_time": "2023-06-25T22:18:20.360Z"
   },
   {
    "duration": 75,
    "start_time": "2023-06-25T22:18:20.400Z"
   },
   {
    "duration": 6,
    "start_time": "2023-06-25T22:18:20.477Z"
   },
   {
    "duration": 107,
    "start_time": "2023-06-25T22:18:20.486Z"
   },
   {
    "duration": 165,
    "start_time": "2023-06-25T22:18:20.595Z"
   },
   {
    "duration": 445,
    "start_time": "2023-06-25T22:18:20.762Z"
   },
   {
    "duration": 11,
    "start_time": "2023-06-25T22:18:21.208Z"
   },
   {
    "duration": 1363,
    "start_time": "2023-06-26T16:20:54.220Z"
   },
   {
    "duration": 1275,
    "start_time": "2023-06-26T16:20:55.587Z"
   },
   {
    "duration": 19,
    "start_time": "2023-06-26T16:20:56.863Z"
   },
   {
    "duration": 36,
    "start_time": "2023-06-26T16:20:56.892Z"
   },
   {
    "duration": 349,
    "start_time": "2023-06-26T16:20:56.930Z"
   },
   {
    "duration": 21,
    "start_time": "2023-06-26T16:20:57.289Z"
   },
   {
    "duration": 13,
    "start_time": "2023-06-26T16:20:57.312Z"
   },
   {
    "duration": 35,
    "start_time": "2023-06-26T16:20:57.327Z"
   },
   {
    "duration": 333,
    "start_time": "2023-06-26T16:20:57.364Z"
   },
   {
    "duration": 48,
    "start_time": "2023-06-26T16:20:57.702Z"
   },
   {
    "duration": 33,
    "start_time": "2023-06-26T16:20:57.752Z"
   },
   {
    "duration": 12,
    "start_time": "2023-06-26T16:20:57.791Z"
   },
   {
    "duration": 34,
    "start_time": "2023-06-26T16:20:57.805Z"
   },
   {
    "duration": 23,
    "start_time": "2023-06-26T16:20:57.841Z"
   },
   {
    "duration": 72,
    "start_time": "2023-06-26T16:20:57.868Z"
   },
   {
    "duration": 28,
    "start_time": "2023-06-26T16:20:57.942Z"
   },
   {
    "duration": 14,
    "start_time": "2023-06-26T16:20:57.972Z"
   },
   {
    "duration": 32,
    "start_time": "2023-06-26T16:20:57.994Z"
   },
   {
    "duration": 78,
    "start_time": "2023-06-26T16:20:58.028Z"
   },
   {
    "duration": 5,
    "start_time": "2023-06-26T16:20:58.109Z"
   },
   {
    "duration": 104,
    "start_time": "2023-06-26T16:20:58.116Z"
   },
   {
    "duration": 185,
    "start_time": "2023-06-26T16:20:58.222Z"
   },
   {
    "duration": 495,
    "start_time": "2023-06-26T16:20:58.409Z"
   },
   {
    "duration": 11,
    "start_time": "2023-06-26T16:20:58.906Z"
   },
   {
    "duration": 15,
    "start_time": "2023-06-26T16:24:20.098Z"
   },
   {
    "duration": 10,
    "start_time": "2023-06-26T16:27:08.156Z"
   }
  ],
  "kernelspec": {
   "display_name": "Python 3 (ipykernel)",
   "language": "python",
   "name": "python3"
  },
  "language_info": {
   "codemirror_mode": {
    "name": "ipython",
    "version": 3
   },
   "file_extension": ".py",
   "mimetype": "text/x-python",
   "name": "python",
   "nbconvert_exporter": "python",
   "pygments_lexer": "ipython3",
   "version": "3.9.5"
  },
  "toc": {
   "base_numbering": 1,
   "nav_menu": {},
   "number_sections": false,
   "sideBar": true,
   "skip_h1_title": false,
   "title_cell": "Table of Contents",
   "title_sidebar": "Contents",
   "toc_cell": false,
   "toc_position": {
    "height": "calc(100% - 180px)",
    "left": "10px",
    "top": "150px",
    "width": "257.273px"
   },
   "toc_section_display": true,
   "toc_window_display": true
  }
 },
 "nbformat": 4,
 "nbformat_minor": 4
}
